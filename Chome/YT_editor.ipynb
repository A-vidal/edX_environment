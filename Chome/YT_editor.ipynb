{
 "cells": [
  {
   "cell_type": "markdown",
   "metadata": {},
   "source": [
    "### Packets"
   ]
  },
  {
   "cell_type": "code",
   "execution_count": 163,
   "metadata": {},
   "outputs": [],
   "source": [
    "import time\n",
    "from selenium import webdriver\n",
    "from selenium.webdriver.common.by import By\n",
    "from selenium.webdriver.chrome.service import Service\n",
    "from selenium.webdriver.chrome.options import Options"
   ]
  },
  {
   "cell_type": "code",
   "execution_count": 164,
   "metadata": {},
   "outputs": [
    {
     "data": {
      "text/plain": [
       "'c:\\\\Users\\\\Usuario\\\\OneDrive\\\\Documentos\\\\UPV\\\\Servipoli\\\\Inst_Ing_Energ\\\\Entorno\\\\Chome'"
      ]
     },
     "execution_count": 164,
     "metadata": {},
     "output_type": "execute_result"
    }
   ],
   "source": [
    "import os\n",
    "os.getcwd()"
   ]
  },
  {
   "cell_type": "markdown",
   "metadata": {},
   "source": [
    "## Utilities"
   ]
  },
  {
   "cell_type": "markdown",
   "metadata": {},
   "source": [
    "### Bot Initialize"
   ]
  },
  {
   "cell_type": "code",
   "execution_count": 165,
   "metadata": {},
   "outputs": [],
   "source": [
    "link_YTstudio = \"https://studio.youtube.com/channel/UCkanTv6l_aY6PM_lskgbrlg?c=UCkanTv6l_aY6PM_lskgbrlg\"\n",
    "\n",
    "def create_bot():\n",
    "    chrome_path = \"C:\\\\Program Files\\\\Google\\\\Chrome Beta\\\\Application\\\\chrome.exe\"\n",
    "    path_UserData = \"C:\\\\Users\\\\Usuario\\\\AppData\\\\Local\\\\Google\\\\Chrome Beta\\\\User Data\\\\\"\n",
    "    # chrome_path = \"..\\\\Entorno\\\\Chome\\\\GoogleChromePortableBeta\\\\App\\\\Chrome-bin\\\\chrome.exe\"\n",
    "    # path_UserData = \"..\\\\Entorno\\\\Chome\\\\GoogleChromePortableBeta\\\\App\\\\DefaultData\\\\\"\n",
    "    driver_path = \"../Structurer/chromedriver.exe\"\n",
    "\n",
    "    options = webdriver.ChromeOptions()\n",
    "    # options.add_experimental_option('excludeSwitches', ['enable-logging'])\n",
    "    options.add_argument(\"--log-level=3\")\n",
    "    options.add_argument(\"user-data-dir=\" + path_UserData)\n",
    "    options.add_argument(\"start-maximized\")\n",
    "    # options.add_argument('--headless')\n",
    "    options.add_argument(\"--no-sandbox\")\n",
    "    options.add_argument(\"--disable-dev-shm-usage\")\n",
    "    options.add_argument(\"--disable-extensions\")\n",
    "    # options.add_argument(\"--disable-gpu\")\n",
    "    # options.add_argument(\"--remote-debugging-port=9222\")\n",
    "    options.binary_location = chrome_path\n",
    "\n",
    "    return webdriver.Chrome(options, Service(driver_path))\n",
    "\n",
    "bot = create_bot()"
   ]
  },
  {
   "cell_type": "markdown",
   "metadata": {},
   "source": [
    "### Iterator"
   ]
  },
  {
   "cell_type": "code",
   "execution_count": 166,
   "metadata": {},
   "outputs": [],
   "source": [
    "def iter_videos(name: str, func: type(create_bot), *atr):\n",
    "    bot.get(f\"https://studio.youtube.com/channel/UCkanTv6l_aY6PM_lskgbrlg/videos/upload?c=UCkanTv6l_aY6PM_lskgbrlg&filter=%5B%7B%22name%22%3A%22TITLE%22%2C%22value%22%3A%7B%22name%22%3A%22CONTAINS%22%2C%22value%22%3A%22{name}%22%7D%7D%5D&sort=%7B%22columnType%22%3A%22date%22%2C%22sortOrder%22%3A%22ASCENDING%22%7D\")\n",
    "\n",
    "    time.sleep(1)\n",
    "\n",
    "    videos = bot.find_elements(By.CSS_SELECTOR, \"div[role=table] ytcp-video-row\")\n",
    "\n",
    "    for i in range(len(videos)):\n",
    "        title = videos[i].find_element(By.CSS_SELECTOR, \"a#video-title\")\n",
    "        text = title.text\n",
    "        title.click()\n",
    "        time.sleep(1)\n",
    "\n",
    "        print(f\"video {i}: {text}\")\n",
    "\n",
    "        try:\n",
    "            func(*atr)\n",
    "            bot.find_element(By.CSS_SELECTOR, \"ytcp-button#save\").click()\n",
    "            print(\"save\")\n",
    "        except:\n",
    "            bot.find_element(By.CSS_SELECTOR, \"ytcp-button#discard\").click()\n",
    "            print(\"discard\")\n",
    "\n",
    "\n",
    "        bot.find_element(By.CSS_SELECTOR, \"div#contentIcon\").click()\n",
    "        time.sleep(1)\n",
    "        videos = bot.find_elements(By.CSS_SELECTOR, \"div[role=table] ytcp-video-row\")"
   ]
  },
  {
   "cell_type": "code",
   "execution_count": 167,
   "metadata": {},
   "outputs": [],
   "source": [
    "def possibleAlert(ret: bool):\n",
    "    try:\n",
    "        alert = bot.switch_to.alert\n",
    "        if ret:\n",
    "            alert.accept()\n",
    "        else:\n",
    "            alert.dismiss()\n",
    "    except:\n",
    "        pass"
   ]
  },
  {
   "cell_type": "code",
   "execution_count": 168,
   "metadata": {},
   "outputs": [],
   "source": [
    "def go_video(code: str, func: type(create_bot), *atr):\n",
    "    bot.get(\"https://studio.youtube.com/channel/UCkanTv6l_aY6PM_lskgbrlg?c=UCkanTv6l_aY6PM_lskgbrlg\")\n",
    "\n",
    "    time.sleep(1)\n",
    "\n",
    "    try:\n",
    "        bot.find_element(By.CSS_SELECTOR, \"ytcp-icon-button#search-icon\").click()\n",
    "    except:\n",
    "        pass\n",
    "\n",
    "    search = bot.find_element(By.CSS_SELECTOR, \"input#query-input\")\n",
    "\n",
    "    search.clear()\n",
    "    time.sleep(1)\n",
    "    search.send_keys(code)\n",
    "\n",
    "    time.sleep(2)\n",
    "\n",
    "    title = bot.find_element(By.CSS_SELECTOR, \"a#video-title\")\n",
    "    text = title.text\n",
    "    title.click()\n",
    "    time.sleep(1)\n",
    "\n",
    "    print(f\"video {code}: {text}\")\n",
    "\n",
    "    try:\n",
    "        func(*atr)\n",
    "        time.sleep(1)\n",
    "        bot.find_element(By.CSS_SELECTOR, \"ytcp-button#save\").click()\n",
    "        print(\"save\")\n",
    "    except Exception as ex:\n",
    "        print(f\"Error: {ex.__name__}\")\n",
    "        bot.find_element(By.CSS_SELECTOR, \"ytcp-button#discard\").click()\n",
    "        print(\"discard\")\n",
    "\n",
    "    \n",
    "    time.sleep(1)\n",
    "    possibleAlert(True)\n",
    "    bot.find_element(By.CSS_SELECTOR, \"div#contentIcon\").click()\n",
    "    time.sleep(1)\n",
    "    videos = bot.find_elements(By.CSS_SELECTOR, \"div[role=table] ytcp-video-row\")\n"
   ]
  },
  {
   "cell_type": "code",
   "execution_count": 169,
   "metadata": {},
   "outputs": [
    {
     "name": "stdout",
     "output_type": "stream",
     "text": [
      "video TWfPtDfmYMc: MC01.1.1.1 - Understanding Environmental Worldviews\n",
      "I'm in\n",
      "save\n"
     ]
    }
   ],
   "source": [
    "go_video(\"TWfPtDfmYMc\", lambda: print(\"I'm in\"))"
   ]
  },
  {
   "cell_type": "markdown",
   "metadata": {},
   "source": [
    "### List selector"
   ]
  },
  {
   "cell_type": "code",
   "execution_count": 170,
   "metadata": {},
   "outputs": [],
   "source": [
    "# bot.find_element(By.CSS_SELECTOR, \"tp-yt-iron-icon#right-icon\").click()"
   ]
  },
  {
   "cell_type": "code",
   "execution_count": 171,
   "metadata": {},
   "outputs": [],
   "source": [
    "# list_selector = bot.find_element(By.CSS_SELECTOR, \"array-selector#selector\")"
   ]
  },
  {
   "cell_type": "code",
   "execution_count": 172,
   "metadata": {},
   "outputs": [],
   "source": [
    "# list_selector.get_property(\"__data\")[\"items\"]"
   ]
  },
  {
   "cell_type": "code",
   "execution_count": 173,
   "metadata": {},
   "outputs": [],
   "source": [
    "def list_in(*name: tuple[str]):\n",
    "    bot.find_element(By.CSS_SELECTOR, \"tp-yt-iron-icon#right-icon\").click()\n",
    "    time.sleep(1)\n",
    "    \n",
    "    lists = bot.find_elements(By.CSS_SELECTOR, \"div#items ytcp-ve\")\n",
    "    list_selector = bot.find_element(By.CSS_SELECTOR, \"array-selector#selector\")\n",
    "    info = list_selector.get_property(\"__data\")[\"items\"]\n",
    "\n",
    "    for i in range(len(info)):\n",
    "        if any(filter(lambda x: info[i][\"label\"] == x, name)) != info[i][\"checked\"]:\n",
    "            lists[i].find_element(By.CSS_SELECTOR, \"div#checkbox-container\").click()\n",
    "\n",
    "    bot.find_element(By.CSS_SELECTOR, \"ytcp-button.done-button div\").click()\n",
    "    # list_selector.get_property(\"__data\")[\"items\"][0][\"checked\"]\n",
    "    # lists[0].find_element(By.CSS_SELECTOR, \"div#checkbox\").click()"
   ]
  },
  {
   "cell_type": "code",
   "execution_count": 174,
   "metadata": {},
   "outputs": [],
   "source": [
    "# iter_videos(\"MC24\", list_in, \"MC24\")"
   ]
  },
  {
   "cell_type": "markdown",
   "metadata": {},
   "source": [
    "## MC information"
   ]
  },
  {
   "cell_type": "markdown",
   "metadata": {},
   "source": [
    "### functions"
   ]
  },
  {
   "cell_type": "code",
   "execution_count": 175,
   "metadata": {},
   "outputs": [],
   "source": [
    "import os\n",
    "import re\n",
    "import docx\n",
    "from fuzzywuzzy import fuzz"
   ]
  },
  {
   "cell_type": "code",
   "execution_count": 176,
   "metadata": {},
   "outputs": [
    {
     "data": {
      "text/plain": [
       "'caracola'"
      ]
     },
     "execution_count": 176,
     "metadata": {},
     "output_type": "execute_result"
    }
   ],
   "source": [
    "def similar(pattern: str, place: list):\n",
    "    return max([(fuzz.token_set_ratio(pattern,i),i) for i in place])[1]\n",
    "\n",
    "similar(\"hola\", [\"caracola\", \"alho\", \"hello\"])"
   ]
  },
  {
   "cell_type": "code",
   "execution_count": 177,
   "metadata": {},
   "outputs": [],
   "source": [
    "def word_find(title : str, partner : str):\n",
    "    doc_path = \"../MC proposals from partners/\"\n",
    "    \n",
    "    dir1 = os.listdir(doc_path)\n",
    "    \n",
    "    Inst = list(filter(lambda x: re.match(\".*\"+partner+\".*\", x), dir1))[0]\n",
    "    \n",
    "    dir2 = os.listdir(doc_path + Inst)\n",
    "    \n",
    "    try:\n",
    "        doc = list(filter(lambda x: re.match(\".*\"+title+\".*\", x), dir2))[0]\n",
    "    except IndexError:\n",
    "        # doc = similar((f\"{partner} - {title}.docx\"), list(map(lambda x: x, dir2)))\n",
    "        doc = similar((f\"{partner} - {title}.docx\")[::-1], list(map(lambda x: x[::-1], dir2)))[::-1]\n",
    "    \n",
    "    return doc_path + Inst + \"/\" + doc"
   ]
  },
  {
   "cell_type": "markdown",
   "metadata": {},
   "source": [
    "### Input"
   ]
  },
  {
   "cell_type": "code",
   "execution_count": 178,
   "metadata": {},
   "outputs": [],
   "source": [
    "MC_code = \"MC44\"\n",
    "doc_word = \"\""
   ]
  },
  {
   "cell_type": "markdown",
   "metadata": {},
   "source": [
    "### Description"
   ]
  },
  {
   "cell_type": "code",
   "execution_count": 179,
   "metadata": {},
   "outputs": [
    {
     "name": "stdout",
     "output_type": "stream",
     "text": [
      "../MC proposals from partners/12 - HU/HU08 Sustainable business models.docx\n"
     ]
    }
   ],
   "source": [
    "_ = open(\"../Data/Docs.csv\")\n",
    "iterator = [i.replace(\"\\n\", \"\").split(\"\\t\") for i in _.readlines()]\n",
    "for row in iterator:\n",
    "    if str(row[0]) == MC_code:\n",
    "        MC_name = str(row[1])\n",
    "        if doc_word == \"\":\n",
    "            doc_word = word_find(row[1], row[2])\n",
    "_.close()\n",
    "del _\n",
    "\n",
    "print(doc_word)"
   ]
  },
  {
   "cell_type": "code",
   "execution_count": 180,
   "metadata": {},
   "outputs": [
    {
     "name": "stdout",
     "output_type": "stream",
     "text": [
      "{'Institution': 'Halmstad University', 'Module coordinator': 'Pia Ulvenblad', 'Lecturers': 'Pia Ulvenblad'}\n"
     ]
    }
   ],
   "source": [
    "doc = docx.Document(doc_word)\n",
    "\n",
    "Intro = doc.tables[0]\n",
    "Description = doc.tables[1]\n",
    "\n",
    "Intro_dic = {\n",
    "    Intro.cell(0,0).text[:-1]: Intro.cell(0,1).text,\n",
    "    Intro.cell(1,0).text[:-1]: Intro.cell(1,1).text,\n",
    "    Intro.cell(2,0).text[:-1]: Intro.cell(2,1).text\n",
    "}\n",
    "\n",
    "Description_dic = {\n",
    "    Description.cell(0,0).text: Description.cell(0,1).text,\n",
    "    Description.cell(1,0).text: Description.cell(1,1).text,\n",
    "    \n",
    "    Description.cell(2,0).text: Description.cell(2,1).text,\n",
    "    Description.cell(2,2).text: Description.cell(2,3).text,\n",
    "    Description.cell(2,4).text: Description.cell(2,5).text,\n",
    "    \n",
    "    Description.cell(3,0).text: Description.cell(3,1).text,\n",
    "    \n",
    "    Description.cell(4,0).text:  (Description.cell( 5,0).text),\n",
    "    Description.cell(6,0).text:  (Description.cell( 7,0).text),\n",
    "    Description.cell(8,0).text:  (Description.cell( 9,0).text),\n",
    "    Description.cell(10,0).text: (Description.cell(11,0).text),\n",
    "    Description.cell(12,0).text: (Description.cell(13,0).text),\n",
    "    Description.cell(14,0).text: (Description.cell(15,0).text),\n",
    "    Description.cell(16,0).text: (Description.cell(17,0).text)\n",
    "}\n",
    "\n",
    "print(Intro_dic)"
   ]
  },
  {
   "cell_type": "code",
   "execution_count": 181,
   "metadata": {},
   "outputs": [
    {
     "name": "stdout",
     "output_type": "stream",
     "text": [
      "dict_keys(['MC title', 'MC long title', 'ISCED codes', 'EQF level,', 'ECTS', 'Suitable for', 'Background of the proposed micro-credential', 'Overview of the micro-credential', 'Learning objectives', 'Table of contents', 'Teaching and learning methods', 'Prerequisites', 'Assessment methods'])\n"
     ]
    }
   ],
   "source": [
    "print(Description_dic.keys())"
   ]
  },
  {
   "cell_type": "code",
   "execution_count": 182,
   "metadata": {},
   "outputs": [
    {
     "data": {
      "text/plain": [
       "'The course focuses on knowledge about how organizations can work strategically and sustainably with issues related to business models and development of value. Included in the business models are the following parts: (i) value proposition, (ii) value creation and delivery, (iii) value capture and (iv) value intention.'"
      ]
     },
     "execution_count": 182,
     "metadata": {},
     "output_type": "execute_result"
    }
   ],
   "source": [
    "Description_dic['Overview of the micro-credential']"
   ]
  },
  {
   "cell_type": "code",
   "execution_count": 183,
   "metadata": {},
   "outputs": [],
   "source": [
    "# (MC_code, MC_name, Overview, Lecturers)\n",
    "desc_plantilla = \"\"\"This video belongs to a Master of RES4City in https://www.res4city.eu/\n",
    "\n",
    "Unit: {0}\n",
    "\n",
    "Course: {1}\n",
    "\n",
    "{2}\n",
    "\n",
    "{3}\n",
    "\n",
    "\n",
    "Lecturers: {4}\n",
    "\n",
    "{5}\"\"\""
   ]
  },
  {
   "cell_type": "code",
   "execution_count": 184,
   "metadata": {},
   "outputs": [
    {
     "name": "stdout",
     "output_type": "stream",
     "text": [
      "MC44 RES4CITY - NEW final Ulvenblad Sustainable Business Models new adjusted version.xlsx\n"
     ]
    },
    {
     "name": "stderr",
     "output_type": "stream",
     "text": [
      "C:\\Users\\Usuario\\AppData\\Local\\Temp\\ipykernel_14048\\4184641218.py:9: DeprecationWarning: Call to deprecated function get_sheet_by_name (Use wb[sheetname]).\n",
      "  MC_Template = WB_in.get_sheet_by_name(\"Template\")\n"
     ]
    }
   ],
   "source": [
    "import openpyxl\n",
    "\n",
    "MC_path = f\"../MC_input/{MC_code}/\" \n",
    "\n",
    "WB_in_name = [i for i in os.listdir(MC_path) if re.match(f\".*{MC_code}.*xls.+$\", i)][0]\n",
    "print(WB_in_name)\n",
    "WB_in = openpyxl.load_workbook(filename= MC_path + WB_in_name, read_only= True, keep_vba= True, keep_links= True)\n",
    "\n",
    "MC_Template = WB_in.get_sheet_by_name(\"Template\")\n",
    "\n",
    "MC_name = MC_Template.cell(2,3).value\n",
    "\n",
    "MC_lecturer = MC_Template.cell(3,3).value\n",
    "\n",
    "MC_inst = MC_Template.cell(4,3).value"
   ]
  },
  {
   "cell_type": "markdown",
   "metadata": {},
   "source": [
    "## Start"
   ]
  },
  {
   "cell_type": "code",
   "execution_count": 185,
   "metadata": {},
   "outputs": [],
   "source": [
    "def ins_desc(n_sec, n_sub, n_unit, title) -> None:\n",
    "    time.sleep(1)\n",
    "\n",
    "    title_text = \".\".join([str(i) for i in [MC_code, n_sec, n_sub, n_unit]]) + \" - \" + title\n",
    "    desc_text = desc_plantilla.format(\n",
    "        f\"S{n_sec}-Sub{n_sub}-U{n_unit}\",\n",
    "        MC_code, \n",
    "        MC_name, \n",
    "        Description_dic['Overview of the micro-credential'],\n",
    "        MC_inst,\n",
    "        Intro_dic['Lecturers'])\n",
    "\n",
    "    title_input, description_input = bot.find_elements(By.XPATH, '//*[@id=\"textbox\"]')\n",
    "    \n",
    "    if title_input.text != title_text:\n",
    "\n",
    "        while title_input.text != \"\":\n",
    "            title_input.clear()\n",
    "            time.sleep(1)\n",
    "        \n",
    "        title_input.send_keys(title_text)\n",
    "        time.sleep(1)\n",
    "    \n",
    "    if description_input.text != desc_text.strip():\n",
    "\n",
    "        while description_input.text != \"\":\n",
    "            description_input.clear()\n",
    "            time.sleep(1)\n",
    "        \n",
    "        description_input.send_keys(desc_text)\n",
    "        time.sleep(1)"
   ]
  },
  {
   "cell_type": "code",
   "execution_count": 186,
   "metadata": {},
   "outputs": [],
   "source": [
    "videos = []"
   ]
  },
  {
   "cell_type": "code",
   "execution_count": 187,
   "metadata": {},
   "outputs": [
    {
     "name": "stdout",
     "output_type": "stream",
     "text": [
      "[]\n"
     ]
    }
   ],
   "source": [
    "print(videos)"
   ]
  },
  {
   "cell_type": "code",
   "execution_count": 188,
   "metadata": {},
   "outputs": [],
   "source": [
    "# videos.append(\"JRci2V8PxW4\")"
   ]
  },
  {
   "cell_type": "code",
   "execution_count": 189,
   "metadata": {},
   "outputs": [
    {
     "name": "stdout",
     "output_type": "stream",
     "text": [
      "video JT5hGtY9Afk: MC44 - Introduction\n",
      "save\n",
      "video Cf-RHsk2Oe0: MC44 - The sustainability concept\n",
      "save\n",
      "video SzqXLshRdls: MC44 - Global sustainability goals\n",
      "save\n",
      "video QbGdv7on2jY: MC44 - Sustainability goals in focus\n",
      "save\n",
      "video 2ebdC93ueDw: MC44 - To meet the global challenges\n",
      "save\n",
      "video jmQv0G9K5eg: MC44 - Parts in a business model\n",
      "save\n",
      "video UaiwGUjwB8c: MC44 - Business model for sustainability\n",
      "save\n",
      "video 31DYmp2pTlw: MC44 - The entrepreneur and stewardship\n",
      "save\n",
      "video weJYYjaMKDM: MC44 - Circular business models\n",
      "save\n",
      "video DKVMWkOYPbU: MC44 - Business model canvas, part 1\n",
      "save\n",
      "video xR2W-tuMeFE: MC44 - Business model canvas, part 2\n",
      "save\n",
      "video y9tWYL_P-oI: MC44 - Sustainability and circularity\n",
      "save\n",
      "video 5b9aeu9va8w: MC44 - Barriers in the development\n",
      "save\n",
      "video WmuH359OWvo: MC44 - Summary\n",
      "save\n",
      "DONE\n"
     ]
    }
   ],
   "source": [
    "sec_n, sub_n = (1,) * 2\n",
    "sec, sub = (\"\",) * 2\n",
    "\n",
    "def unit(row: tuple, n_sec: int, n_sub: int):\n",
    "    \n",
    "    n_unit = row[1].value\n",
    "    title = row[2].value\n",
    "    \n",
    "    video = row[3].value\n",
    "\n",
    "    def func():\n",
    "        ins_desc(n_sec, n_sub, n_unit, title)\n",
    "        list_in(MC_code, MC_code + \" - \" + MC_name)\n",
    "\n",
    "    if type(video) != str:\n",
    "        return\n",
    "    \n",
    "    if len(video) == 11:\n",
    "        if video not in videos:\n",
    "            go_video(video, func)\n",
    "            videos.append(video)\n",
    "\n",
    "for row in MC_Template.iter_rows():\n",
    "\n",
    "    header = str(row[0].value)\n",
    "\n",
    "    if bool(re.match(\"^Section.*[0-9]+.*$\",header)):\n",
    "        sec_n = int(re.findall(\"[0-9]+\", header)[0])\n",
    "        sec = row[1].value\n",
    "        sub = row[1].value\n",
    "        sub_n = 1\n",
    "        continue\n",
    "    elif bool(re.match(\"^Subsection.*$\",header)):\n",
    "        sub_n = int(row[1].value)\n",
    "        sub = row[2].value\n",
    "        continue\n",
    "    elif bool(re.match(\"^.*Unit.*$\",header)):\n",
    "        unit(row, sec_n, sub_n)\n",
    "\n",
    "print(\"DONE\")"
   ]
  },
  {
   "cell_type": "markdown",
   "metadata": {},
   "source": [
    "## Finish"
   ]
  },
  {
   "cell_type": "code",
   "execution_count": 190,
   "metadata": {},
   "outputs": [],
   "source": [
    "playlist = False"
   ]
  },
  {
   "cell_type": "code",
   "execution_count": 191,
   "metadata": {},
   "outputs": [
    {
     "name": "stdout",
     "output_type": "stream",
     "text": [
      "[<selenium.webdriver.remote.webelement.WebElement (session=\"93591fa28bb552f773bdde5feae041b8\", element=\"B26452B87E1997105DF513B264D967A7_element_1852\")>, <selenium.webdriver.remote.webelement.WebElement (session=\"93591fa28bb552f773bdde5feae041b8\", element=\"B26452B87E1997105DF513B264D967A7_element_1853\")>, <selenium.webdriver.remote.webelement.WebElement (session=\"93591fa28bb552f773bdde5feae041b8\", element=\"B26452B87E1997105DF513B264D967A7_element_1854\")>, <selenium.webdriver.remote.webelement.WebElement (session=\"93591fa28bb552f773bdde5feae041b8\", element=\"B26452B87E1997105DF513B264D967A7_element_1855\")>, <selenium.webdriver.remote.webelement.WebElement (session=\"93591fa28bb552f773bdde5feae041b8\", element=\"B26452B87E1997105DF513B264D967A7_element_1856\")>, <selenium.webdriver.remote.webelement.WebElement (session=\"93591fa28bb552f773bdde5feae041b8\", element=\"B26452B87E1997105DF513B264D967A7_element_1857\")>, <selenium.webdriver.remote.webelement.WebElement (session=\"93591fa28bb552f773bdde5feae041b8\", element=\"B26452B87E1997105DF513B264D967A7_element_1858\")>, <selenium.webdriver.remote.webelement.WebElement (session=\"93591fa28bb552f773bdde5feae041b8\", element=\"B26452B87E1997105DF513B264D967A7_element_1859\")>, <selenium.webdriver.remote.webelement.WebElement (session=\"93591fa28bb552f773bdde5feae041b8\", element=\"B26452B87E1997105DF513B264D967A7_element_1860\")>, <selenium.webdriver.remote.webelement.WebElement (session=\"93591fa28bb552f773bdde5feae041b8\", element=\"B26452B87E1997105DF513B264D967A7_element_1861\")>]\n",
      "save\n"
     ]
    }
   ],
   "source": [
    "time.sleep(2)\n",
    "\n",
    "bot.get(f\"https://studio.youtube.com/channel/UCkanTv6l_aY6PM_lskgbrlg/content/playlists?c=UCkanTv6l_aY6PM_lskgbrlg\")\n",
    "\n",
    "time.sleep(1)\n",
    "\n",
    "bot.refresh()\n",
    "time.sleep(2)\n",
    "\n",
    "# bot.find_element(By.CSS_SELECTOR, \"#footer ytcp-dropdown-trigger\").click()\n",
    "\n",
    "# bot.find_element(By.CSS_SELECTOR, \"#text-item-2\").click()\n",
    "\n",
    "# time.sleep(1)\n",
    "\n",
    "videos = bot.find_elements(By.CSS_SELECTOR, \"div#playlist-table-content ytcp-playlist-row\")\n",
    "\n",
    "print(videos)\n",
    "\n",
    "for i in range(len(videos)):\n",
    "    title = videos[i].find_element(By.CSS_SELECTOR, \"a#playlist-title-link\")\n",
    "\n",
    "\n",
    "    if (title.text).strip() != MC_code and (title.text).strip() != (MC_code + \" - \" + MC_name):\n",
    "        continue\n",
    "\n",
    "    title.click()\n",
    "    time.sleep(1)\n",
    "    title_input, description_input = bot.find_elements(By.XPATH, '//*[@id=\"textbox\"]')\n",
    "\n",
    "    while title_input.text != \"\":\n",
    "        title_input.clear()\n",
    "        time.sleep(1)\n",
    "    \n",
    "    title_input.send_keys(MC_code + \" - \" + MC_name)\n",
    "\n",
    "    while description_input.text != \"\":\n",
    "        description_input.clear()\n",
    "        time.sleep(1)\n",
    "    \n",
    "    description_input.send_keys(\n",
    "        \"These are the videos of a Master of RES4City.\\n\\nFor more information, please visit the following website:\\nhttps://www.res4city.eu/\"\n",
    "    )\n",
    "\n",
    "    try:\n",
    "        bot.find_element(By.CSS_SELECTOR, \"ytcp-button#save\").click()\n",
    "        print(\"save\")\n",
    "    except Exception as ex:\n",
    "        print(f\"Error: {ex.__name__}\")\n",
    "        bot.find_element(By.CSS_SELECTOR, \"ytcp-button#discard\").click()\n",
    "        print(\"discard\")\n",
    "    \n",
    "    time.sleep(1)\n",
    "    possibleAlert(True)\n",
    "    bot.find_element(By.CSS_SELECTOR, \"div#contentIcon\").click()\n",
    "\n",
    "    videos = bot.find_elements(By.CSS_SELECTOR, \"div#playlist-table-content ytcp-playlist-row\")"
   ]
  },
  {
   "cell_type": "code",
   "execution_count": 192,
   "metadata": {},
   "outputs": [],
   "source": [
    "bot.get(f\"https://studio.youtube.com/channel/UCkanTv6l_aY6PM_lskgbrlg/content/playlists?c=UCkanTv6l_aY6PM_lskgbrlg\")\n",
    "\n",
    "time.sleep(1)\n",
    "\n",
    "videos = bot.find_elements(By.CSS_SELECTOR, \"div#playlist-table-content ytcp-playlist-row\")\n",
    "\n",
    "for i in range(len(videos)):\n",
    "    title = videos[i].find_element(By.CSS_SELECTOR, \"a#playlist-title-link\")\n",
    "\n",
    "    if (title.text).strip() != (MC_code + \" - \" + MC_name):\n",
    "        playlist = True\n",
    "\n",
    "assert playlist"
   ]
  },
  {
   "cell_type": "code",
   "execution_count": 193,
   "metadata": {},
   "outputs": [],
   "source": [
    "bot.close()"
   ]
  },
  {
   "cell_type": "markdown",
   "metadata": {},
   "source": []
  }
 ],
 "metadata": {
  "kernelspec": {
   "display_name": "X2E.venv",
   "language": "python",
   "name": "python3"
  },
  "language_info": {
   "codemirror_mode": {
    "name": "ipython",
    "version": 3
   },
   "file_extension": ".py",
   "mimetype": "text/x-python",
   "name": "python",
   "nbconvert_exporter": "python",
   "pygments_lexer": "ipython3",
   "version": "3.11.4"
  }
 },
 "nbformat": 4,
 "nbformat_minor": 2
}
