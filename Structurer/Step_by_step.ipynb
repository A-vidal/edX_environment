{
 "cells": [
  {
   "cell_type": "markdown",
   "metadata": {},
   "source": [
    "### Dependencias"
   ]
  },
  {
   "cell_type": "markdown",
   "metadata": {},
   "source": [
    "Estos son modulos incluidos en Python\n",
    "\n",
    "- Os sirve para explorar directorios (y mas)\n",
    "- Datetime sirve para hacer y gestionar fechas"
   ]
  },
  {
   "cell_type": "code",
   "execution_count": 1,
   "metadata": {},
   "outputs": [
    {
     "name": "stderr",
     "output_type": "stream",
     "text": [
      "c:\\Users\\Usuario\\OneDrive\\Documentos\\UPV\\Servipoli\\Inst_Ing_Energ\\Entorno\\X2E.venv\\Lib\\site-packages\\fuzzywuzzy\\fuzz.py:11: UserWarning: Using slow pure-python SequenceMatcher. Install python-Levenshtein to remove this warning\n",
      "  warnings.warn('Using slow pure-python SequenceMatcher. Install python-Levenshtein to remove this warning')\n"
     ]
    }
   ],
   "source": [
    "import os\n",
    "import datetime\n",
    "\n",
    "from library.utils import MC_docs\n",
    "from library.extras import Doc, get_logo\n",
    "from library.control import Find, Revise"
   ]
  },
  {
   "cell_type": "markdown",
   "metadata": {},
   "source": [
    "### Input MC"
   ]
  },
  {
   "cell_type": "code",
   "execution_count": 2,
   "metadata": {},
   "outputs": [],
   "source": [
    "MC_path = \"../MC_input/MC30/\" \n",
    "\n",
    "MC_code = MC_path.split(\"/\")[2]\n",
    "\n",
    "MC_sections = [\"Template\", \"Tests\"]\n",
    "\n",
    "doc_word = \"\"\n",
    "# ej: doc_word = \"./MC proposals from partners/05-UNISS/UNISS - Introduction to energy system.docx\"\n",
    "\n",
    "Find.set_path(MC_path)\n",
    "path = os.getcwd()"
   ]
  },
  {
   "cell_type": "markdown",
   "metadata": {},
   "source": [
    "# Structure"
   ]
  },
  {
   "cell_type": "code",
   "execution_count": 3,
   "metadata": {},
   "outputs": [],
   "source": [
    "from library.excel_read import Excel_read, find_excel\n",
    "\n",
    "# excel_name = MC_code + \"-Structure.xlsx\"\n",
    "excel_name = find_excel(MC_path, MC_code) # find the excel file\n",
    "excel_in = Excel_read(MC_path + excel_name, *MC_sections) # open the excel"
   ]
  },
  {
   "cell_type": "markdown",
   "metadata": {},
   "source": [
    "### Info"
   ]
  },
  {
   "cell_type": "code",
   "execution_count": 4,
   "metadata": {},
   "outputs": [
    {
     "name": "stdout",
     "output_type": "stream",
     "text": [
      "\n",
      "Title: Urban renewable energy: decision making methodologies\n",
      "Lecturer: Xiufeng Liu\n",
      "Institution: Technical University of Denmark\n",
      "\n"
     ]
    }
   ],
   "source": [
    "MC_title, MC_lecturer, MC_inst = excel_in.get_info() # get the general info\n",
    "\n",
    "print(\"\"\"\n",
    "Title: {0}\n",
    "Lecturer: {1}\n",
    "Institution: {2}\n",
    "\"\"\".format(MC_title, MC_lecturer, MC_inst))"
   ]
  },
  {
   "cell_type": "markdown",
   "metadata": {},
   "source": [
    "### Tests"
   ]
  },
  {
   "cell_type": "code",
   "execution_count": 5,
   "metadata": {},
   "outputs": [
    {
     "name": "stdout",
     "output_type": "stream",
     "text": [
      "[[1, 'Urban renewable energy', 1, 'Definition and importance of urban renewable energy', 4, 'Exercise', None, None, None, None, None, None, 'What is the definition of urban renewable energy?', None, 1, ' Energy derived from natural resources that are replenished at a rate that is equal to or faster than the rate at which they are consumed, and that are produced or consumed within or near urban areas.', None, ' Energy derived from fossil fuels that are extracted at a rate that is equal to or faster than the rate at which they are consumed, and that are produced or consumed within or near urban areas.', None, 'Energy derived from natural resources that are depleted at a rate that is equal to or faster than the rate at which they are consumed, and that are produced or consumed within or near urban areas.', None, 'Energy derived from fossil fuels that are depleted at a rate that is equal to or faster than the rate at which they are consumed, and that are produced or consumed within or near urban areas.', None, None, None],\n",
      "[1, 'Urban renewable energy', 1, 'Definition and importance of urban renewable energy', 4, 'Exercise', None, None, None, None, None, None, 'What are some of the benefits of urban renewable energy for cities and their inhabitants?', None, 4, 'Reducing greenhouse gas emissions and improving air quality', None, 'Creating jobs and enhancing local economic development', None, 'Enhancing resilience and reducing dependence on external energy sources', None, ' All of the above', None, None, None],\n",
      "[1, 'Urban renewable energy', 1, 'Definition and importance of urban renewable energy', 4, 'Exercise', None, None, None, None, None, None, ' What are some of the technical challenges for urban renewable energy deployment?', None, 1, 'Limited space availability, grid integration issues, resource variability and intermittency', None, 'High upfront costs, lack of access to finance, market distortions and subsidies for fossil fuels', None, 'Complex permitting processes, inadequate policies and incentives, lack of coordination among different levels of governance', None, 'None of the above', None, None, None],\n",
      "[1, 'Urban renewable energy', 1, 'Definition and importance of urban renewable energy', 4, 'Exercise', None, None, None, None, None, None, 'What are some of the examples of successful urban renewable energy projects and initiatives around the world?', None, 3, 'Solar rooftops in Adelaide, wind turbines in Copenhagen, district heating and cooling in Paris', None, 'Electric vehicles in Shenzhen, smart grids in Boulder, community energy in Freiburg', None, 'Both A and B', None, 'Neither A nor B', None, None, None],\n",
      "[1, 'Urban renewable energy', 1, 'Definition and importance of urban renewable energy', 4, 'Exercise', None, None, None, None, None, None, 'What are some of the indicators that can help cities measure and monitor their urban renewable energy potential and performance?', None, 4, 'The share of renewable energy in total final energy consumption, the installed capacity and generation of renewable energy by source and sector', None, ' The avoided emissions and costs of renewable energy, the job creation and value added of renewable energy', None, ' The access and affordability of renewable energy services', None, ' All of the above', None, None, None],\n",
      "[1, 'Urban renewable energy', 2, 'Types and sources of urban renewable energy', 3, 'Exercise', None, None, None, None, None, None, 'Which of the following sources of renewable energy for cities has the lowest greenhouse gas emissions per unit of electricity generated, according to the IRENA report', None, 3, 'Hydropower', None, 'Solar', None, 'Wind', None, 'Biomass', None, None, None],\n",
      "[1, 'Urban renewable energy', 2, 'Types and sources of urban renewable energy', 3, 'Exercise', None, None, None, None, None, None, ' Which of the following sources of renewable energy for cities has the lowest visual impact, meaning that it causes the least disturbance to the natural or urban scenery?', None, 3, 'Solar', None, 'Wind', None, 'Geothermal', None, 'Ocean', None, None, None],\n",
      "[1, 'Urban renewable energy', 2, 'Types and sources of urban renewable energy', 3, 'Exercise', None, None, None, None, None, None, 'Which of the following sources of renewable energy for cities has the lowest social acceptance, meaning that it faces the most opposition or controversy from stakeholders and communities?', None, 1, 'Hydropower', None, 'Biomass', None, 'Geothermal', None, 'Ocean', None, None, None],\n",
      "[1, 'Urban renewable energy', 2, 'Types and sources of urban renewable energy', 3, 'Exercise', None, None, None, None, None, None, 'Which of the following sources of renewable energy for cities has the highest visual impact, meaning that it causes the most disturbance to the natural or urban scenery?', None, 2, 'Solar', None, 'Wind', None, 'Geothermal', None, 'Ocean', None, None, None],\n",
      "[2, 'Introduction to Multicriteria decision model (MCDM)', 1, 'CiWK_TbFJM8', 4, 'Exercise', None, None, None, None, None, None, 'What is the main purpose of MCDM?', None, 1, 'To compare options with multiple criteria', None, 'To optimize a single criterion', None, '\\xa0To rank criteria by importance', None, 'To eliminate options with low scores', None, None, None],\n",
      "[2, 'Introduction to Multicriteria decision model (MCDM)', 1, 'Gd-pRa42xIU', 4, 'Exercise', None, None, None, None, None, None, 'What are the two steps involved in weighting and scoring in MCDM?', None, 1, 'Assigning importance to criteria and rating alternatives based on criteria', None, 'Calculating the overall value of alternatives and ordering them from best to worst', None, 'Identifying different types of alternatives and factors to consider in decision-making', None, 'Testing the impact of changes in weights, scores, or methods and assessing the robustness of decisions', None, None, None],\n",
      "[2, 'Introduction to Multicriteria decision model (MCDM)', 1, 'Definition and concepts of Multicriteria decision model', 4, 'Exercise', None, None, None, None, None, None, 'What are the three dimensions of sustainability that were considered as criteria in urban renewable energy?', 'What are the three dimensions of sustainability that were considered as criteria in urban renewable energy?', 1, 'Environmental, economic, social', None, 'Technical, financial, political', None, 'Legal, ethical, cultural', None, 'Quality, quantity, diversity', None, None, None],\n",
      "[2, 'Introduction to Multicriteria decision model (MCDM)', 1, 'Definition and concepts of Multicriteria decision model', 4, 'Exercise', None, None, None, None, None, None, 'What is the main benefit of performing sensitivity analysis in MCDM?', None, 3, 'To increase the accuracy of scores and weights', None, '\\xa0To reduce the complexity of aggregation and ranking', None, 'To assess the robustness or stability of decisions', None, 'To improve the communication or presentation of results', None, None, None],\n",
      "[2, 'Introduction to Multicriteria decision model (MCDM)', 2, 'The main methods and techniques of Multicriteria decision model', 3, 'Exercise', None, None, None, None, None, None, 'Which of the following is NOT a component or step in MCDM?', None, 3, 'Defining alternatives', None, 'Establishing criteria', None, ' Data extrapolation', None, 'Sensitivity analysis', None, None, None],\n",
      "[2, 'Introduction to Multicriteria decision model (MCDM)', 2, 'The main methods and techniques of Multicriteria decision model', 3, 'Exercise', None, None, None, None, None, None, 'Which method for MCDM assumes that criteria are independent and commensurable?', None, 4, 'AHP', None, 'TOPSIS', None, 'Weighted Decision Matrix', None, 'WSM', None, None, None],\n",
      "[2, 'Introduction to Multicriteria decision model (MCDM)', 2, 'qlGkfTmjBnM', 3, 'Exercise', None, None, None, None, None, None, 'Which method measures the distance of each alternative from an ideal and a negative ideal solution?', None, 3, 'WSM', None, 'AHP', None, 'TOPSIS', None, 'Linear Programming', None, None, None],\n",
      "[2, 'Introduction to Multicriteria decision model (MCDM)', 2, 'ogtpnGgF2oQ', 3, 'Exercise', None, None, None, None, None, None, 'AHP is particularly useful where:', None, 4, 'Decision makers have clear quantitative data available', None, 'There are simple decisions to be made with few criteria.', None, 'The problem is straightforward with no multi-level complexities.', None, ' Capturing qualitative and subjective judgments is needed.', None, None, None],\n",
      "[2, 'Introduction to Multicriteria decision model (MCDM)', 2, 'Choose and apply appropriate methods and techniques for your Multicriteria decision problem', 3, 'Exercise', None, None, None, None, None, None, 'Which of the following MCDM methods is known for its simplicity and ease of application but assumes independence and linearity of criteria?', None, 3, 'Analytic Hierarchy Process (AHP)', None, 'Technique for Order Preference by Similarity to Ideal Solution (TOPSIS)', None, 'Weighted Sum Model (WSM)', None, 'ELECTRE', None, None, None],\n",
      "[2, 'Introduction to Multicriteria decision model (MCDM)', 2, 'Choose and apply appropriate methods and techniques for your Multicriteria decision problem', 3, 'Exercise', None, None, None, None, None, None, ' What is a common pitfall in applying MCDM that occurs when the weights assigned to criteria do not reflect the true preferences or importance of the decision maker or stakeholders?', None, 3, ' Incomplete data', None, 'Misapplication of a method', None, 'Inconsistent weighting', None, 'Lack of software tools', None, None, None],\n",
      "[2, 'Introduction to Multicriteria decision model (MCDM)', 2, 'Choose and apply appropriate methods and techniques for your Multicriteria decision problem', 3, 'Exercise', None, None, None, None, None, None, 'Which software tool is mentioned as a powerful computing software that can perform advanced MCDM methods but may require programming skills and can be expensive to purchase or license?', None, 4, 'Excel', None, 'Python', None, 'R', None, 'MATLAB', None, None, None],\n",
      "[3, 'Decision making methodologies for urban renewable energy', 1, 'Criteria and indicators for assessing urban renewable energy alternatives', 3, 'Exercise', None, None, None, None, None, None, 'What are the four steps involved in the multicriteria decision model (MCDM) as mentioned in the presentation?', None, 2, 'Identify alternatives, select indicators, assign scores, evaluate alternatives', None, ' Identify the problem and alternatives, select criteria and indicators, assign weights and scores, rank alternatives', None, ' Select problem and criteria, evaluate alternatives, assign scores, rank alternatives', None, ' Identify problem, select alternatives, evaluate criteria, rank scores', None, None, None],\n",
      "[3, 'Decision making methodologies for urban renewable energy', 1, 'j3dxvewYFy8', 3, 'Exercise', None, None, None, None, None, None, 'Which of the following is NOT a mentioned economic criterion for evaluating renewable energy projects?', None, 4, ' Cost-effectiveness', None, 'Return on Investment', None, 'Funding and Financing', None, 'Resource Consumption', None, None, None],\n",
      "[3, 'Decision making methodologies for urban renewable energy', 1, 'GJQZ0PMewQE', 3, 'Exercise', None, None, None, None, None, None, 'What does the community impact criterion measure in the context of renewable energy projects?', None, 3, \"The effects of a project on local communities' employment\", None, 'The community support and engagement for a project', None, 'The effects of a project on local communities, such as health, safety, and quality of life', None, ' The financial impact of a project on the local community', None, None, None],\n",
      "[3, 'Decision making methodologies for urban renewable energy', 2, 'Using Analytic Hierarchy Process in Urban Renewable Energy', 3, 'Exercise', None, None, None, None, None, None, 'What is the main advantage of AHP over other MCDM methods?', None, 4, 'It can handle complex problems involving multiple criteria and alternatives.', None, 'It can measure the consistency of the pairwise comparisons.', None, ' It can use both qualitative and quantitative data.', None, ' All of the above.', None, None, None],\n",
      "[3, 'Decision making methodologies for urban renewable energy', 2, 'Using Analytic Hierarchy Process in Urban Renewable Energy', 3, 'Exercise', None, None, None, None, None, None, 'What is the formula for calculating the eigenvalue of an element in a pairwise comparison matrix?', None, 3, 'The sum of the elements in the row divided by the number of elements.', None, 'The product of the elements in the row multiplied by the eigenvector.', None, 'The average of the elements in the row multiplied by the corresponding element in the eigenvector.', None, 'The difference of the elements in the row subtracted by the corresponding element in the eigenvector.', None, None, None],\n",
      "[3, 'Decision making methodologies for urban renewable energy', 2, 'Using Analytic Hierarchy Process in Urban Renewable Energy', 3, 'Exercise', None, None, None, None, None, None, 'What is the difference between global weight and local weight in AHP?', None, 3, ' Global weight is the weight of an element at the goal level, while local weight is the weight of an element at any other level.', None, 'Global weight is the weight of an element at any level, while local weight is the weight of an element at the lowest level.', None, 'Global weight is the weight of an element relative to all other elements in the hierarchy, while local weight is the weight of an element relative to its parent element.', None, 'Global weight is the weight of an element relative to its parent element, while local weight is the weight of an element relative to all other elements in the hierarchy.', None, None, None],\n",
      "[3, 'Decision making methodologies for urban renewable energy', 2, 'Using Analytic Hierarchy Process in Urban Renewable Energy', 3, 'Exercise', None, None, None, None, None, None, 'What are some applications of AHP in real-world problems?', None, 1, 'Project selection, supplier evaluation, resource allocation, etc.', None, 'Linear programming, network analysis, game theory, etc.', None, ' Data mining, machine learning, artificial intelligence, etc.', None, 'Regression analysis, hypothesis testing, statistical inference, etc.', None, None, None],\n",
      "[None, None, None, 'JP_qK8LJnfg', None, None, None, None, None, None, None, None, None, None, None, None, None, None, None, None, None, None, None, None, None],\n",
      "[None, None, None, 'eqM8H4uQwr0', None, None, None, None, None, None, None, None, None, None, None, None, None, None, None, None, None, None, None, None, None],\n",
      "[None, None, None, '2ZrEe19Znk8', None, None, None, None, None, None, None, None, None, None, None, None, None, None, None, None, None, None, None, None, None],\n",
      "[None, None, None, 'SXmHK9y-hdw', None, None, None, None, None, None, None, None, None, None, None, None, None, None, None, None, None, None, None, None, None],\n",
      "[1, 'Course Introduction', 1, 'Issues of the energy system', 5, 'Module test', None, None, None, None, None, None, 'Which is an issue of the current energy system?', 4, 4, 'Depletion of natural resources.', None, 'Fuel poverty.', None, 'Passive consumption.', None, 'All the above.', None, None, None]]\n"
     ]
    }
   ],
   "source": [
    "Tests = excel_in.get_tests()\n",
    "\n",
    "print(str(Tests).replace(\"], \", \"],\\n\"))"
   ]
  },
  {
   "cell_type": "markdown",
   "metadata": {},
   "source": [
    "### Template"
   ]
  },
  {
   "cell_type": "code",
   "execution_count": 6,
   "metadata": {},
   "outputs": [
    {
     "name": "stdout",
     "output_type": "stream",
     "text": [
      "[[1, 'Urban renewable energy', 1, 'Definition and importance of urban renewable energy', 1, 'Urban renewable energy concepts and facts', 'CiWK_TbFJM8', None, None],\n",
      "[1, 'Urban renewable energy', 1, 'Definition and importance of urban renewable energy', 2, 'The global and local challenges and opportunities of urban renewable energy', 'Gd-pRa42xIU', None, None],\n",
      "[1, 'Urban renewable energy', 1, 'Definition and importance of urban renewable energy', 3, 'Reading ', None, None, 'Renewable_Energy_in_Cities.pdf'],\n",
      "[1, 'Urban renewable energy', 1, 'Definition and importance of urban renewable energy', 4, ' Test Module 1', None, 0.18, '5 MCQ'],\n",
      "[1, 'Urban renewable energy', 2, 'Types and sources of urban renewable energy', 1, 'The main types and sources of urban renewable energy', 'qlGkfTmjBnM', None, None],\n",
      "[1, 'Urban renewable energy', 2, 'Types and sources of urban renewable energy', 2, 'The advantages and disadvantages of different urban renewable energy options', 'ogtpnGgF2oQ', None, None],\n",
      "[1, 'Urban renewable energy', 2, 'Types and sources of urban renewable energy', 3, 'Test Module 2', None, 0.14, '4 MCQ'],\n",
      "[2, 'Introduction to Multicriteria decision model (MCDM)', 1, 'Definition and concepts of Multicriteria decision model', 1, 'What is Multicriteria decision model and why is it useful for decision making?', 'j3dxvewYFy8', None, None],\n",
      "[2, 'Introduction to Multicriteria decision model (MCDM)', 1, 'Definition and concepts of Multicriteria decision model', 2, 'The main components and steps of Multicriteria decision model', 'GJQZ0PMewQE', None, None],\n",
      "[2, 'Introduction to Multicriteria decision model (MCDM)', 1, 'Definition and concepts of Multicriteria decision model', 3, 'Reading', None, None, 'Multi-Criteria Decision Analysis.pdf'],\n",
      "[2, 'Introduction to Multicriteria decision model (MCDM)', 1, 'Definition and concepts of Multicriteria decision model', 4, 'Test Module 3', None, 0.14, '4 MCQ'],\n",
      "[2, 'Introduction to Multicriteria decision model (MCDM)', 2, 'Methods and techniques of Multicriteria decision model', 1, 'The main methods and techniques of Multicriteria decision model', 'zAIOW36s6Cs', None, None],\n",
      "[2, 'Introduction to Multicriteria decision model (MCDM)', 2, 'Methods and techniques of Multicriteria decision model', 2, 'How to choose and apply appropriate methods and techniques for your Multicriteria decision problem', 'n7G7z8Lw-L4', None, None],\n",
      "[2, 'Introduction to Multicriteria decision model (MCDM)', 2, 'Methods and techniques of Multicriteria decision model', 3, 'Test Module 4', None, 0.26, '7 MCQ'],\n",
      "[3, 'Decision making methodologies for urban renewable energy', 1, 'Criteria and indicators for assessing urban renewable energy alternatives', 1, 'The main criteria and indicators for evaluating urban renewable energy alternatives', 'eqM8H4uQwr0', None, None],\n",
      "[3, 'Decision making methodologies for urban renewable energy', 1, 'Criteria and indicators for assessing urban renewable energy alternatives', 2, 'Reading', None, None, 'Indicators for the optimization of sustainable urban energy systems based on energy system modeling.pdf'],\n",
      "[3, 'Decision making methodologies for urban renewable energy', 1, 'Criteria and indicators for assessing urban renewable energy alternatives', 3, 'Test Module 5', None, 0.13, '3 MCQ'],\n",
      "[3, 'Decision making methodologies for urban renewable energy', 2, 'Tools and techniques for applying decision making methodologies to urban renewable energy projects', 1, 'How to use analytic hierarchy process to rank an urban renewable energy project', '2ZrEe19Znk8', None, None],\n",
      "[3, 'Decision making methodologies for urban renewable energy', 2, 'Tools and techniques for applying decision making methodologies to urban renewable energy projects', 2, 'Reading', None, None, 'A systematic approach for assessment of renewable energy using analytic hierarchy process.pdf'],\n",
      "[3, 'Decision making methodologies for urban renewable energy', 2, 'Tools and techniques for applying decision making methodologies to urban renewable energy projects', 3, 'Test Module 6', None, 0.15, '4 MCQ'],\n",
      "[4, 'Example application of MCDM used for urban renewable energy system decison', 1, 'Showcase of an example MCDM decision platform', 1, 'Showcase a MCDM platform for decision making', 'SXmHK9y-hdw', None, None],\n",
      "[4, 'Example application of MCDM used for urban renewable energy system decison', 1, 'Showcase of an example MCDM decision platform', 2, 'Reading', None, None, 'Recent advances in methods, policies and technologies at sustainable energy systems development.pdf']]\n"
     ]
    }
   ],
   "source": [
    "Units = excel_in.get_units()\n",
    "\n",
    "print(str(Units).replace(\"], \", \"],\\n\"))"
   ]
  },
  {
   "cell_type": "markdown",
   "metadata": {},
   "source": [
    "### Save"
   ]
  },
  {
   "cell_type": "code",
   "execution_count": 7,
   "metadata": {},
   "outputs": [],
   "source": [
    "excel_in.save()\n",
    "excel_in.close()"
   ]
  },
  {
   "cell_type": "markdown",
   "metadata": {},
   "source": [
    "## Revise"
   ]
  },
  {
   "cell_type": "code",
   "execution_count": 8,
   "metadata": {},
   "outputs": [],
   "source": [
    "revise = Revise(MC_code, Units, Tests)"
   ]
  },
  {
   "cell_type": "markdown",
   "metadata": {},
   "source": [
    "### Tests"
   ]
  },
  {
   "cell_type": "code",
   "execution_count": 9,
   "metadata": {},
   "outputs": [
    {
     "name": "stdout",
     "output_type": "stream",
     "text": [
      "[True, True, True, True, True, True]\n",
      "True\n"
     ]
    }
   ],
   "source": [
    "test_revised = revise.test_list()\n",
    "\n",
    "print(test_revised)\n",
    "print(all(test_revised))"
   ]
  },
  {
   "cell_type": "markdown",
   "metadata": {},
   "source": [
    "### Evaluation"
   ]
  },
  {
   "cell_type": "code",
   "execution_count": 10,
   "metadata": {},
   "outputs": [
    {
     "name": "stdout",
     "output_type": "stream",
     "text": [
      "6 exams of 18.0%, 14.0%, 14.0%, 26.0%, 13.0% and 15.0% respectively.\n",
      "True\n"
     ]
    }
   ],
   "source": [
    "lista_notas, evaluation = revise.notas()\n",
    "\n",
    "print(evaluation)\n",
    "print(sum(lista_notas) == 100)"
   ]
  },
  {
   "cell_type": "markdown",
   "metadata": {},
   "source": [
    "### Docs"
   ]
  },
  {
   "cell_type": "code",
   "execution_count": 11,
   "metadata": {},
   "outputs": [
    {
     "name": "stdout",
     "output_type": "stream",
     "text": [
      "[True, True, True, True, True]\n",
      "True\n"
     ]
    }
   ],
   "source": [
    "doc_revised = revise.doc_list()\n",
    "\n",
    "print(doc_revised)\n",
    "print(all(doc_revised))"
   ]
  },
  {
   "cell_type": "markdown",
   "metadata": {},
   "source": [
    "### Video"
   ]
  },
  {
   "cell_type": "code",
   "execution_count": 12,
   "metadata": {},
   "outputs": [
    {
     "name": "stdout",
     "output_type": "stream",
     "text": [
      "[]\n",
      "True\n"
     ]
    }
   ],
   "source": [
    "video_revised = revise.video_list()\n",
    "\n",
    "print(video_revised)\n",
    "print(all(video_revised))"
   ]
  },
  {
   "cell_type": "markdown",
   "metadata": {},
   "source": [
    "## All"
   ]
  },
  {
   "cell_type": "code",
   "execution_count": 13,
   "metadata": {},
   "outputs": [
    {
     "data": {
      "text/plain": [
       "'6 exams of 18.0%, 14.0%, 14.0%, 26.0%, 13.0% and 15.0% respectively.'"
      ]
     },
     "execution_count": 13,
     "metadata": {},
     "output_type": "execute_result"
    }
   ],
   "source": [
    "revise.all()"
   ]
  },
  {
   "cell_type": "markdown",
   "metadata": {},
   "source": [
    "# Extra"
   ]
  },
  {
   "cell_type": "markdown",
   "metadata": {},
   "source": [
    "### Doc"
   ]
  },
  {
   "cell_type": "code",
   "execution_count": 14,
   "metadata": {},
   "outputs": [
    {
     "name": "stdout",
     "output_type": "stream",
     "text": [
      "The doc of the course is: Urban renewable energy: decision making methodologies\n"
     ]
    }
   ],
   "source": [
    "if doc_word == \"\":\n",
    "    MC_partners = MC_docs(\"../MC proposals from partners/\", \"../Data/Docs.csv\", \"../Data/Register.csv\")\n",
    "    doc_word = MC_partners.get_doc(MC_code)"
   ]
  },
  {
   "cell_type": "code",
   "execution_count": 15,
   "metadata": {},
   "outputs": [
    {
     "name": "stdout",
     "output_type": "stream",
     "text": [
      "{'Institution': 'Technical University of Denmark', 'Module coordinator': 'Xiufeng Liu', 'Lecturers': ''}\n"
     ]
    }
   ],
   "source": [
    "doc = Doc(doc_word) # open the word\n",
    "\n",
    "print(doc.intro_dic)"
   ]
  },
  {
   "cell_type": "markdown",
   "metadata": {},
   "source": [
    "### SVG"
   ]
  },
  {
   "cell_type": "code",
   "execution_count": 16,
   "metadata": {},
   "outputs": [
    {
     "name": "stdout",
     "output_type": "stream",
     "text": [
      "<?xml version=\"1.0\" encoding=\"UTF-8\"?>\n"
     ]
    }
   ],
   "source": [
    "logo = get_logo(\"../Data/res4city-logo-rectangle.svg\") # get the logo in HTML\n",
    "\n",
    "print(logo[:38])"
   ]
  },
  {
   "cell_type": "markdown",
   "metadata": {},
   "source": [
    "## Videos"
   ]
  },
  {
   "cell_type": "code",
   "execution_count": 1,
   "metadata": {},
   "outputs": [],
   "source": [
    "from library.YT_bot import Bot # test the bot\n",
    "Bot.test(\"../\",\"../Data/chrome_options.json\")"
   ]
  },
  {
   "cell_type": "markdown",
   "metadata": {},
   "source": [
    "### Bot"
   ]
  },
  {
   "cell_type": "code",
   "execution_count": null,
   "metadata": {},
   "outputs": [],
   "source": [
    "YTbot = Bot(MC_path, \"../Data/chrome_options.json\", False) # open the browser"
   ]
  },
  {
   "cell_type": "markdown",
   "metadata": {},
   "source": [
    "### Plantilla"
   ]
  },
  {
   "cell_type": "code",
   "execution_count": null,
   "metadata": {},
   "outputs": [],
   "source": [
    "desc_plantilla = \"\\n\\n\".join([\n",
    "        \"This video belongs to a Master of RES4City in https://www.res4city.eu/\",\n",
    "        \"Unit: {0}\",\n",
    "        \"Course: {1}\",\n",
    "        \"{2}\",\n",
    "        \"{3}\\n\",\n",
    "        \"Lecturers: {4}\",\n",
    "        \"{5}\"\n",
    "    ])\n",
    "\n",
    "desc_plantilla = desc_plantilla.format(\n",
    "    \"{0}\", \n",
    "    MC_code, \n",
    "    MC_title, \n",
    "    doc.desc_overview, \n",
    "    MC_inst, \n",
    "    MC_lecturer\n",
    ")"
   ]
  },
  {
   "cell_type": "markdown",
   "metadata": {},
   "source": [
    "### Upload"
   ]
  },
  {
   "cell_type": "code",
   "execution_count": null,
   "metadata": {},
   "outputs": [],
   "source": [
    "if len([i[6] for i in Units if type(i[6]) == list]) > 0:\n",
    "    # if there's a video to upload, upload it\n",
    "    excel_in.upload_videos(YTbot, Units, desc_plantilla)"
   ]
  },
  {
   "cell_type": "markdown",
   "metadata": {},
   "source": [
    "### Revise"
   ]
  },
  {
   "cell_type": "code",
   "execution_count": null,
   "metadata": {},
   "outputs": [],
   "source": [
    "# check if all the videos are uploaded\n",
    "_ = [i[6] for i in Units if i[6] != None]\n",
    "assert all(map(lambda x: type(x) == str and len(x) == 11, _)), f\"No estan todos los videos subidos: {_}\"\n",
    "del _"
   ]
  },
  {
   "cell_type": "markdown",
   "metadata": {},
   "source": [
    "# XNF"
   ]
  },
  {
   "cell_type": "code",
   "execution_count": 23,
   "metadata": {},
   "outputs": [
    {
     "name": "stderr",
     "output_type": "stream",
     "text": [
      "c:\\Users\\Usuario\\OneDrive\\Documentos\\UPV\\Servipoli\\Inst_Ing_Energ\\Entorno\\X2E.venv\\Lib\\site-packages\\openpyxl\\worksheet\\_reader.py:329: UserWarning: Unknown extension is not supported and will be removed\n",
      "  warn(msg)\n",
      "c:\\Users\\Usuario\\OneDrive\\Documentos\\UPV\\Servipoli\\Inst_Ing_Energ\\Entorno\\X2E.venv\\Lib\\site-packages\\openpyxl\\worksheet\\_reader.py:329: UserWarning: Conditional Formatting extension is not supported and will be removed\n",
      "  warn(msg)\n",
      "c:\\Users\\Usuario\\OneDrive\\Documentos\\UPV\\Servipoli\\Inst_Ing_Energ\\Entorno\\X2E.venv\\Lib\\site-packages\\openpyxl\\worksheet\\_reader.py:329: UserWarning: Data Validation extension is not supported and will be removed\n",
      "  warn(msg)\n"
     ]
    }
   ],
   "source": [
    "from library.excel_write import Excel_write, dict_tareas\n",
    "\n",
    "excel_out = Excel_write(MC_path)"
   ]
  },
  {
   "cell_type": "markdown",
   "metadata": {},
   "source": [
    "## Datos generales"
   ]
  },
  {
   "cell_type": "code",
   "execution_count": 25,
   "metadata": {},
   "outputs": [],
   "source": [
    "datos_generales = [\n",
    "    [\n",
    "        MC_code,\n",
    "        MC_title,\n",
    "        datetime.datetime(2024, 1, 1, 0, 0),\n",
    "        datetime.datetime(2024, 1, 1, 0, 0),\n",
    "        \"English\"\n",
    "    ],\n",
    "    [\n",
    "        MC_lecturer, # Intro_dic[\"Lecturers\"],\n",
    "        None,\n",
    "        doc.description_dic[\"Background of the proposed micro-credential\"] + \"\\n\\n\" + doc.description_dic[\"Overview of the micro-credential\"],\n",
    "        doc.description_dic[\"Prerequisites\"],\n",
    "        doc.description_dic[\"Learning objectives\"],\n",
    "    ],\n",
    "    [\n",
    "        MC_inst, # Intro_dic[\"Institution\"],\n",
    "        doc.description_dic[\"ECTS\"].strip() + \" ECTS\",\n",
    "        None,\n",
    "        None,\n",
    "        evaluation\n",
    "    ],\n",
    "    [\n",
    "        None,\n",
    "        \"Z-Posgrade\",\n",
    "        \"2024-001\",\n",
    "        \"No\",\n",
    "        logo\n",
    "    ],\n",
    "    [\n",
    "        datetime.datetime(2024, 1, 1, 0, 0),\n",
    "        None,\n",
    "        None,\n",
    "        None,\n",
    "        \"Si\"\n",
    "    ]\n",
    "]"
   ]
  },
  {
   "cell_type": "code",
   "execution_count": 26,
   "metadata": {},
   "outputs": [],
   "source": [
    "excel_out.upload_datos(datos_generales)\n"
   ]
  },
  {
   "cell_type": "markdown",
   "metadata": {},
   "source": [
    "## Tipo de tarea"
   ]
  },
  {
   "cell_type": "code",
   "execution_count": 29,
   "metadata": {},
   "outputs": [
    {
     "name": "stdout",
     "output_type": "stream",
     "text": [
      "{('5 MCQ', 0.18): ('5 MCQ', 1), ('4 MCQ', 0.14): ('4 MCQ (2)', 2), ('3 MCQ', 0.13): ('3 MCQ', 1), ('7 MCQ', 0.26): ('7 MCQ', 1), ('4 MCQ', 0.15): ('4 MCQ', 1)}\n"
     ]
    }
   ],
   "source": [
    "tipos_de_tarea = dict_tareas(Units)\n",
    "\n",
    "# {(tipo, valor): (nombre, repeticiones)}\n",
    "print(tipos_de_tarea)"
   ]
  },
  {
   "cell_type": "code",
   "execution_count": 30,
   "metadata": {},
   "outputs": [],
   "source": [
    "excel_out.upload_tareas(tipos_de_tarea)"
   ]
  },
  {
   "cell_type": "markdown",
   "metadata": {},
   "source": [
    "## Unidades"
   ]
  },
  {
   "cell_type": "code",
   "execution_count": 31,
   "metadata": {},
   "outputs": [],
   "source": [
    "excel_out.upload_units(Units)"
   ]
  },
  {
   "cell_type": "markdown",
   "metadata": {},
   "source": [
    "## Lección"
   ]
  },
  {
   "cell_type": "code",
   "execution_count": 32,
   "metadata": {},
   "outputs": [],
   "source": [
    "excel_out.upload_leccion(Units)"
   ]
  },
  {
   "cell_type": "markdown",
   "metadata": {},
   "source": [
    "## Problemas"
   ]
  },
  {
   "cell_type": "code",
   "execution_count": 33,
   "metadata": {},
   "outputs": [],
   "source": [
    "excel_out.upload_problema(Tests)"
   ]
  },
  {
   "cell_type": "markdown",
   "metadata": {},
   "source": [
    "## Save"
   ]
  },
  {
   "cell_type": "code",
   "execution_count": 35,
   "metadata": {},
   "outputs": [],
   "source": [
    "excel_out.save(\"../Excel_output/\"+MC_code+\".xlsm\")\n",
    "\n",
    "excel_out.close()"
   ]
  },
  {
   "cell_type": "markdown",
   "metadata": {},
   "source": [
    "# FIN"
   ]
  },
  {
   "cell_type": "code",
   "execution_count": null,
   "metadata": {},
   "outputs": [],
   "source": [
    "YTbot.list_name(MC_code, MC_title)"
   ]
  },
  {
   "cell_type": "code",
   "execution_count": null,
   "metadata": {},
   "outputs": [],
   "source": [
    "YTbot.save_closing()"
   ]
  },
  {
   "cell_type": "code",
   "execution_count": null,
   "metadata": {},
   "outputs": [],
   "source": [
    "del YTbot"
   ]
  },
  {
   "cell_type": "code",
   "execution_count": 36,
   "metadata": {},
   "outputs": [],
   "source": [
    "del excel_in\n",
    "del excel_out"
   ]
  },
  {
   "cell_type": "code",
   "execution_count": null,
   "metadata": {},
   "outputs": [],
   "source": [
    "# fin"
   ]
  }
 ],
 "metadata": {
  "kernelspec": {
   "display_name": "X2E.venv",
   "language": "python",
   "name": "python3"
  },
  "language_info": {
   "codemirror_mode": {
    "name": "ipython",
    "version": 3
   },
   "file_extension": ".py",
   "mimetype": "text/x-python",
   "name": "python",
   "nbconvert_exporter": "python",
   "pygments_lexer": "ipython3",
   "version": "3.11.4"
  }
 },
 "nbformat": 4,
 "nbformat_minor": 2
}
