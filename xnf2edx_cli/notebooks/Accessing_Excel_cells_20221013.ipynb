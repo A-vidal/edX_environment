{
 "cells": [
  {
   "cell_type": "code",
   "execution_count": 1,
   "id": "0e57aa4a",
   "metadata": {},
   "outputs": [],
   "source": [
    "import xlrd\n",
    "import lxml\n",
    "from pathlib import Path"
   ]
  },
  {
   "cell_type": "code",
   "execution_count": 2,
   "id": "1235150b",
   "metadata": {},
   "outputs": [],
   "source": [
    "from xnf2edx import consts\n",
    "from xnf2edx.utils import get_sheet_from_row, get_sheet, get_all_row_values\n",
    "from xnf2edx.xnf2edx import parseShowAnswer"
   ]
  },
  {
   "cell_type": "code",
   "execution_count": 3,
   "id": "0102e1eb",
   "metadata": {},
   "outputs": [],
   "source": [
    "XNF_PATH = Path(\".\").absolute().joinpath(\"data\", \"input\", \"english_xnf2.xlsm\")\n",
    "PROBLEMATIC_PATH = Path(\".\").absolute().joinpath(\"data\", \"input\", \"problematic_xnf.xlsm\")"
   ]
  },
  {
   "cell_type": "code",
   "execution_count": 4,
   "id": "0bc613a0",
   "metadata": {},
   "outputs": [],
   "source": [
    "# Global variables\n",
    "path = \"\"\n",
    "problemSetID = 1\n",
    "stufftoreturn = {\"path\": \"\", \"coursename\": \"\", \"log\": \"\", \"error\": \"\"}\n",
    "\n",
    "# Some config to avoid unexpected behaviour\n",
    "xlrd.xlsx.ensure_elementtree_imported(False, None)\n",
    "xlrd.xlsx.Element_has_iter = True"
   ]
  },
  {
   "cell_type": "code",
   "execution_count": 5,
   "id": "d7584ff9",
   "metadata": {},
   "outputs": [],
   "source": [
    "wb = xlrd.open_workbook(PROBLEMATIC_PATH)"
   ]
  },
  {
   "cell_type": "markdown",
   "id": "a72bb4ec",
   "metadata": {},
   "source": [
    "### Get some values"
   ]
  },
  {
   "cell_type": "code",
   "execution_count": 6,
   "id": "52ba3ec0",
   "metadata": {},
   "outputs": [],
   "source": [
    "row = 6\n",
    "_problemattr = {'max_attempts': 'null', 'weight': 1, 'showanswer': 'finished'}"
   ]
  },
  {
   "cell_type": "code",
   "execution_count": 7,
   "id": "af0d699d",
   "metadata": {},
   "outputs": [],
   "source": [
    "### Caso 1: sheet.cell_value(_row, CPROBLEMASSHOWANSWERCOL) no es \"\""
   ]
  },
  {
   "cell_type": "code",
   "execution_count": 8,
   "id": "b9f272b5",
   "metadata": {},
   "outputs": [],
   "source": [
    "sheet_problem = get_sheet(wb, consts.CPROBLEMASSHEET, consts.CPROBLEMASROW)"
   ]
  },
  {
   "cell_type": "code",
   "execution_count": 9,
   "id": "dfd1e184",
   "metadata": {},
   "outputs": [
    {
     "data": {
      "text/plain": [
       "'Never'"
      ]
     },
     "execution_count": 9,
     "metadata": {},
     "output_type": "execute_result"
    }
   ],
   "source": [
    "cell_value = sheet_problem.cell_value(row, consts.CPROBLEMASSHOWANSWERCOL)\n",
    "cell_value"
   ]
  },
  {
   "cell_type": "code",
   "execution_count": 10,
   "id": "34c15aa2",
   "metadata": {},
   "outputs": [
    {
     "data": {
      "text/plain": [
       "'never'"
      ]
     },
     "execution_count": 10,
     "metadata": {},
     "output_type": "execute_result"
    }
   ],
   "source": [
    "showanswer = parseShowAnswer(wb, cell_value)\n",
    "showanswer"
   ]
  },
  {
   "cell_type": "markdown",
   "id": "fc0ce120",
   "metadata": {},
   "source": [
    "### conf sheet"
   ]
  },
  {
   "cell_type": "code",
   "execution_count": 19,
   "id": "a0930468",
   "metadata": {},
   "outputs": [],
   "source": [
    "conf_sheet = get_sheet(wb, consts.CONF_SHEET, None)"
   ]
  },
  {
   "cell_type": "code",
   "execution_count": 20,
   "id": "bab57ef3",
   "metadata": {},
   "outputs": [
    {
     "data": {
      "text/plain": [
       "'Siempre'"
      ]
     },
     "execution_count": 20,
     "metadata": {},
     "output_type": "execute_result"
    }
   ],
   "source": [
    "conf_sheet.cell_value(24, 0)"
   ]
  },
  {
   "cell_type": "code",
   "execution_count": 21,
   "id": "37a9a360",
   "metadata": {},
   "outputs": [
    {
     "data": {
      "text/plain": [
       "['Siempre', 'Always']"
      ]
     },
     "execution_count": 21,
     "metadata": {},
     "output_type": "execute_result"
    }
   ],
   "source": [
    "get_all_row_values(conf_sheet, consts.SHOWANSWER_ALWAYS_COL)"
   ]
  },
  {
   "cell_type": "code",
   "execution_count": null,
   "id": "df481745",
   "metadata": {},
   "outputs": [],
   "source": []
  }
 ],
 "metadata": {
  "kernelspec": {
   "display_name": "Django Shell-Plus",
   "language": "python",
   "name": "django_extensions"
  },
  "language_info": {
   "codemirror_mode": {
    "name": "ipython",
    "version": 3
   },
   "file_extension": ".py",
   "mimetype": "text/x-python",
   "name": "python",
   "nbconvert_exporter": "python",
   "pygments_lexer": "ipython3",
   "version": "3.10.2"
  }
 },
 "nbformat": 4,
 "nbformat_minor": 5
}
