{
 "cells": [
  {
   "cell_type": "code",
   "execution_count": 7,
   "id": "0e57aa4a",
   "metadata": {},
   "outputs": [],
   "source": [
    "import xlrd\n",
    "import lxml\n",
    "import io\n",
    "from lxml import etree\n",
    "from pathlib import Path"
   ]
  },
  {
   "cell_type": "code",
   "execution_count": 8,
   "id": "1235150b",
   "metadata": {},
   "outputs": [],
   "source": [
    "from xnf2edx import consts\n",
    "from xnf2edx.utils import get_sheet_from_row, get_sheet, get_all_row_values\n",
    "from xnf2edx.xnf2edx import parseShowAnswer, fixhtmlentities, parse_html_cell\n",
    "from xnf2edx.consts import (\n",
    "    CDATOSGENERALESSHEET, CDATOSGENERALESROW, CDATOSGENERALESINFOPOS, CDATOSGENERALESDURATIONPOS,\n",
    "    CDATOSGENERALESABOUTPOS, CDATOSGENERALESPREREQUISITESPOS, CUNIDADSHEET, CUNIDADROW, CUNIDADCHAPTERNAMECOL\n",
    ")"
   ]
  },
  {
   "cell_type": "code",
   "execution_count": 3,
   "id": "0102e1eb",
   "metadata": {},
   "outputs": [],
   "source": [
    "XNF_PATH = Path(\".\").absolute().joinpath(\"data\", \"input\", \"MOOC_RES4CITY_20230228.xlsm\")"
   ]
  },
  {
   "cell_type": "code",
   "execution_count": 4,
   "id": "0bc613a0",
   "metadata": {},
   "outputs": [],
   "source": [
    "# Global variables\n",
    "path = \"\"\n",
    "problemSetID = 1\n",
    "stufftoreturn = {\"path\": \"\", \"coursename\": \"\", \"log\": \"\", \"error\": \"\"}\n",
    "\n",
    "# Some config to avoid unexpected behaviour\n",
    "xlrd.xlsx.ensure_elementtree_imported(False, None)\n",
    "xlrd.xlsx.Element_has_iter = True"
   ]
  },
  {
   "cell_type": "code",
   "execution_count": 5,
   "id": "d7584ff9",
   "metadata": {},
   "outputs": [],
   "source": [
    "wb = xlrd.open_workbook(XNF_PATH)"
   ]
  },
  {
   "cell_type": "markdown",
   "id": "a72bb4ec",
   "metadata": {},
   "source": [
    "### create_about_overview"
   ]
  },
  {
   "cell_type": "code",
   "execution_count": 6,
   "id": "90a19117",
   "metadata": {},
   "outputs": [],
   "source": [
    "_wb = wb"
   ]
  },
  {
   "cell_type": "code",
   "execution_count": 7,
   "id": "7cf3536d",
   "metadata": {},
   "outputs": [],
   "source": [
    "sheet = get_sheet(_wb, CDATOSGENERALESSHEET, CDATOSGENERALESROW)\n",
    "sheetunits = get_sheet(_wb, CUNIDADSHEET, CUNIDADROW)\n",
    "htmlpath = path + \"/about/overview.html\""
   ]
  },
  {
   "cell_type": "code",
   "execution_count": 8,
   "id": "4a86880b",
   "metadata": {},
   "outputs": [],
   "source": [
    "info = sheet.cell_value(CDATOSGENERALESINFOPOS[0], CDATOSGENERALESINFOPOS[1])\n",
    "if info[:1] != \"<\":\n",
    "    info = \"<p>\" + info + \"</p>\"\n",
    "    \n",
    "duration = sheet.cell_value(CDATOSGENERALESDURATIONPOS[0], CDATOSGENERALESDURATIONPOS[1])\n",
    "if duration[:1] != \"<\":\n",
    "    duration = \"<p>\" + duration + \"</p>\"\n",
    "\n",
    "about = sheet.cell_value(CDATOSGENERALESABOUTPOS[0], CDATOSGENERALESABOUTPOS[1])\n",
    "if about[:1] != \"<\":\n",
    "    about = \"<p>\" + about + \"</p>\"\n",
    "    \n",
    "prerequisites = sheet.cell_value(CDATOSGENERALESPREREQUISITESPOS[0], CDATOSGENERALESPREREQUISITESPOS[1])\n",
    "if prerequisites[:1] != \"<\":\n",
    "    prerequisites = \"<p>\" + prerequisites + \"</p>\""
   ]
  },
  {
   "cell_type": "code",
   "execution_count": 9,
   "id": "76030284",
   "metadata": {},
   "outputs": [
    {
     "data": {
      "text/plain": [
       "'<p style=\"text-align:justify;\">Este MOOC tiene como objetivo proporcionar a los alumnos una buena comprensión del concepto de comunidad energética local (CEL), su potencial para un cambio sistemático en el sistema energético y cómo ponerlas en práctica. </p>\\n<p style=\"text-align:justify;\">El MOOC comenzará explicando el concepto de CEL y su relevancia en el contexto urbano. </p>\\n<p style=\"text-align:justify;\">A continuación, estableceremos el marco jurídico europeo de las CEL, explicando las similitudes y diferencias entre las Comunidades Energéticas Ciudadanas y las Comunidades de Energías Renovables. </p>\\n<p style=\"text-align:justify;\">A partir de aquí, exploraremos la situación actual de las comunidades energéticas en la UE y algunos casos de éxito para destacar las implicaciones para la región y el sistema energético. En concreto, queremos que los alumnos identifiquen las ventajas, los obstáculos y los retos de las CEL. </p>\\n<p style=\"text-align:justify;\">Una vez realizado este ejercicio, aprenderán a establecer una CEL. Por último, debatiremos las posibilidades de ampliar e interconectar las comunidades energéticas para descarbonizar zonas más amplias de la ciudad.</p>'"
      ]
     },
     "execution_count": 9,
     "metadata": {},
     "output_type": "execute_result"
    }
   ],
   "source": [
    "info"
   ]
  },
  {
   "cell_type": "code",
   "execution_count": 10,
   "id": "65adf5ca",
   "metadata": {},
   "outputs": [
    {
     "data": {
      "text/plain": [
       "'<p>8 weeks</p>'"
      ]
     },
     "execution_count": 10,
     "metadata": {},
     "output_type": "execute_result"
    }
   ],
   "source": [
    "duration"
   ]
  },
  {
   "cell_type": "code",
   "execution_count": 11,
   "id": "86606542",
   "metadata": {},
   "outputs": [
    {
     "data": {
      "text/plain": [
       "'<p style=\"text-align:justify;\">Este MOOC tiene como objetivo proporcionar a los alumnos una buena comprensión del concepto de comunidad energética local (CEL), su potencial para un cambio sistemático en el sistema energético y cómo ponerlas en práctica. </p>\\n<p style=\"text-align:justify;\">El MOOC comenzará explicando el concepto de CEL y su relevancia en el contexto urbano. </p>\\n<p style=\"text-align:justify;\">A continuación, estableceremos el marco jurídico europeo de las CEL, explicando las similitudes y diferencias entre las Comunidades Energéticas Ciudadanas y las Comunidades de Energías Renovables. </p>\\n<p style=\"text-align:justify;\">A partir de aquí, exploraremos la situación actual de las comunidades energéticas en la UE y algunos casos de éxito para destacar las implicaciones para la región y el sistema energético. En concreto, queremos que los alumnos identifiquen las ventajas, los obstáculos y los retos de las CEL. </p>\\n<p style=\"text-align:justify;\">Una vez realizado este ejercicio, aprenderán a establecer una CEL. Por último, debatiremos las posibilidades de ampliar e interconectar las comunidades energéticas para descarbonizar zonas más amplias de la ciudad.</p>'"
      ]
     },
     "execution_count": 11,
     "metadata": {},
     "output_type": "execute_result"
    }
   ],
   "source": [
    "about"
   ]
  },
  {
   "cell_type": "code",
   "execution_count": 12,
   "id": "eccb3c1c",
   "metadata": {},
   "outputs": [
    {
     "data": {
      "text/plain": [
       "'<p style=\"text-align:justify;\">Los siguientes requisitos previos son esenciales para la realización del MC:</p><ul>\\n<li>Conocimientos básicos del sistema energético.</li>\\n<li>Comprensión fundamental de los mercados de la electricidad.</li></ul>'"
      ]
     },
     "execution_count": 12,
     "metadata": {},
     "output_type": "execute_result"
    }
   ],
   "source": [
    "prerequisites"
   ]
  },
  {
   "cell_type": "markdown",
   "id": "ba26eaca",
   "metadata": {},
   "source": [
    "### <span style=\"color:blue;\">Todo OK</span>"
   ]
  },
  {
   "cell_type": "code",
   "execution_count": 15,
   "id": "8e8f7174",
   "metadata": {},
   "outputs": [
    {
     "data": {
      "text/plain": [
       "4"
      ]
     },
     "execution_count": 15,
     "metadata": {},
     "output_type": "execute_result"
    }
   ],
   "source": [
    "sheetunits.nrows"
   ]
  },
  {
   "cell_type": "code",
   "execution_count": 19,
   "id": "25de23c9",
   "metadata": {},
   "outputs": [
    {
     "data": {
      "text/plain": [
       "'<ol><li>Module 1: Energy communities implementation in the urban environment</li></ol>'"
      ]
     },
     "execution_count": 19,
     "metadata": {},
     "output_type": "execute_result"
    }
   ],
   "source": [
    "units = \"\"\n",
    "prev = \"\"\n",
    "i = 1\n",
    "while (\n",
    "    sheetunits.nrows > i\n",
    "    and sheetunits.cell_value(i, CUNIDADCHAPTERNAMECOL) != \"\"\n",
    "):\n",
    "    if prev != str(sheetunits.cell_value(i, CUNIDADCHAPTERNAMECOL)):\n",
    "        units = (f\"{units}<li>{sheetunits.cell_value(i, CUNIDADCHAPTERNAMECOL)}</li>\")\n",
    "        prev = str(sheetunits.cell_value(i, CUNIDADCHAPTERNAMECOL))\n",
    "    i = i + 1\n",
    "units = \"<ol>\" + units + \"</ol>\"\n",
    "units"
   ]
  },
  {
   "cell_type": "markdown",
   "id": "7cec8983",
   "metadata": {},
   "source": [
    "### <span style=\"color:blue;\">Todo OK</span>"
   ]
  },
  {
   "cell_type": "code",
   "execution_count": 37,
   "id": "f3789221",
   "metadata": {},
   "outputs": [
    {
     "name": "stdout",
     "output_type": "stream",
     "text": [
      "<section Class=\"info\">\n",
      "  <h2>Duración</h2>\n",
      "  <p>8 weeks</p>\n",
      "  <h2>Acerca de este curso</h2>\n",
      "  <p style=\"text-align:justify;\">Este MOOC tiene como objetivo proporcionar a los alumnos una buena comprensión del concepto de comunidad energética local (CEL), su potencial para un cambio sistemático en el sistema energético y cómo ponerlas en práctica. </p>\n",
      "</section>\n",
      "\n"
     ]
    }
   ],
   "source": [
    "inforoot = etree.Element(\"section\", Class=\"info\")\n",
    "info_writer = etree.ElementTree(inforoot)\n",
    "inforoot.append(etree.parse(io.StringIO(\"<h2>Duración</h2>\\n\")).getroot())\n",
    "inforoot.append(\n",
    "    etree.parse(io.StringIO(fixhtmlentities(duration)), etree.XMLParser(recover=True, encoding=\"utf-8\")).getroot()\n",
    ")\n",
    "inforoot.append(\n",
    "    etree.parse(io.StringIO(\"<h2>Acerca de este curso</h2>\\n\")).getroot()\n",
    ")\n",
    "inforoot.append(\n",
    "    etree.parse(\n",
    "        io.StringIO(fixhtmlentities(info)),\n",
    "        etree.XMLParser(recover=True, encoding=\"utf-8\"),\n",
    "    ).getroot()\n",
    ")\n",
    "\n",
    "print(etree.tostring(inforoot, pretty_print=True, encoding=\"utf-8\").decode())"
   ]
  },
  {
   "cell_type": "code",
   "execution_count": 38,
   "id": "5416abd6",
   "metadata": {
    "scrolled": true
   },
   "outputs": [
    {
     "data": {
      "text/plain": [
       "'<p style=\"text-align:justify;\">Este MOOC tiene como objetivo proporcionar a los alumnos una buena comprensión del concepto de comunidad energética local (CEL), su potencial para un cambio sistemático en el sistema energético y cómo ponerlas en práctica. </p>\\n<p style=\"text-align:justify;\">El MOOC comenzará explicando el concepto de CEL y su relevancia en el contexto urbano. </p>\\n<p style=\"text-align:justify;\">A continuación, estableceremos el marco jurídico europeo de las CEL, explicando las similitudes y diferencias entre las Comunidades Energéticas Ciudadanas y las Comunidades de Energías Renovables. </p>\\n<p style=\"text-align:justify;\">A partir de aquí, exploraremos la situación actual de las comunidades energéticas en la UE y algunos casos de éxito para destacar las implicaciones para la región y el sistema energético. En concreto, queremos que los alumnos identifiquen las ventajas, los obstáculos y los retos de las CEL. </p>\\n<p style=\"text-align:justify;\">Una vez realizado este ejercicio, aprenderán a establecer una CEL. Por último, debatiremos las posibilidades de ampliar e interconectar las comunidades energéticas para descarbonizar zonas más amplias de la ciudad.</p>'"
      ]
     },
     "execution_count": 38,
     "metadata": {},
     "output_type": "execute_result"
    }
   ],
   "source": [
    "info"
   ]
  },
  {
   "cell_type": "markdown",
   "id": "2ebf8985",
   "metadata": {},
   "source": [
    "### <span style=\"color:red;\">Problema detectado!</span>\n",
    "Parece que aquí se está perdiendo la información de la variable **info**. A ver si podemos concretar más"
   ]
  },
  {
   "cell_type": "code",
   "execution_count": 40,
   "id": "d308747c",
   "metadata": {},
   "outputs": [
    {
     "data": {
      "text/plain": [
       "'<p style=\"text-align:justify;\">Este MOOC tiene como objetivo proporcionar a los alumnos una buena comprensión del concepto de comunidad energética local (CEL), su potencial para un cambio sistemático en el sistema energético y cómo ponerlas en práctica. </p>\\n<p style=\"text-align:justify;\">El MOOC comenzará explicando el concepto de CEL y su relevancia en el contexto urbano. </p>\\n<p style=\"text-align:justify;\">A continuación, estableceremos el marco jurídico europeo de las CEL, explicando las similitudes y diferencias entre las Comunidades Energéticas Ciudadanas y las Comunidades de Energías Renovables. </p>\\n<p style=\"text-align:justify;\">A partir de aquí, exploraremos la situación actual de las comunidades energéticas en la UE y algunos casos de éxito para destacar las implicaciones para la región y el sistema energético. En concreto, queremos que los alumnos identifiquen las ventajas, los obstáculos y los retos de las CEL. </p>\\n<p style=\"text-align:justify;\">Una vez realizado este ejercicio, aprenderán a establecer una CEL. Por último, debatiremos las posibilidades de ampliar e interconectar las comunidades energéticas para descarbonizar zonas más amplias de la ciudad.</p>'"
      ]
     },
     "execution_count": 40,
     "metadata": {},
     "output_type": "execute_result"
    }
   ],
   "source": [
    "info"
   ]
  },
  {
   "cell_type": "code",
   "execution_count": 41,
   "id": "b8616de2",
   "metadata": {},
   "outputs": [
    {
     "data": {
      "text/plain": [
       "'<p style=\"text-align:justify;\">Este MOOC tiene como objetivo proporcionar a los alumnos una buena comprensión del concepto de comunidad energética local (CEL), su potencial para un cambio sistemático en el sistema energético y cómo ponerlas en práctica. </p>\\n<p style=\"text-align:justify;\">El MOOC comenzará explicando el concepto de CEL y su relevancia en el contexto urbano. </p>\\n<p style=\"text-align:justify;\">A continuación, estableceremos el marco jurídico europeo de las CEL, explicando las similitudes y diferencias entre las Comunidades Energéticas Ciudadanas y las Comunidades de Energías Renovables. </p>\\n<p style=\"text-align:justify;\">A partir de aquí, exploraremos la situación actual de las comunidades energéticas en la UE y algunos casos de éxito para destacar las implicaciones para la región y el sistema energético. En concreto, queremos que los alumnos identifiquen las ventajas, los obstáculos y los retos de las CEL. </p>\\n<p style=\"text-align:justify;\">Una vez realizado este ejercicio, aprenderán a establecer una CEL. Por último, debatiremos las posibilidades de ampliar e interconectar las comunidades energéticas para descarbonizar zonas más amplias de la ciudad.</p>'"
      ]
     },
     "execution_count": 41,
     "metadata": {},
     "output_type": "execute_result"
    }
   ],
   "source": [
    "fixhtmlentities(info)"
   ]
  },
  {
   "cell_type": "code",
   "execution_count": 45,
   "id": "d1a50ec9",
   "metadata": {},
   "outputs": [
    {
     "data": {
      "text/plain": [
       "<_io.StringIO at 0x7ff1e31a5750>"
      ]
     },
     "execution_count": 45,
     "metadata": {},
     "output_type": "execute_result"
    }
   ],
   "source": [
    "io.StringIO(fixhtmlentities(info))"
   ]
  },
  {
   "cell_type": "code",
   "execution_count": 43,
   "id": "77a81280",
   "metadata": {},
   "outputs": [
    {
     "name": "stdout",
     "output_type": "stream",
     "text": [
      "<p style=\"text-align:justify;\">Este MOOC tiene como objetivo proporcionar a los alumnos una buena comprensión del concepto de comunidad energética local (CEL), su potencial para un cambio sistemático en el sistema energético y cómo ponerlas en práctica. </p>\n",
      "\n"
     ]
    }
   ],
   "source": [
    "a = etree.parse(io.StringIO(fixhtmlentities(info)), etree.XMLParser(recover=True, encoding=\"utf-8\"))\n",
    "print(etree.tostring(a, pretty_print=True, encoding=\"utf-8\").decode())"
   ]
  },
  {
   "cell_type": "code",
   "execution_count": 56,
   "id": "df3b1d80",
   "metadata": {},
   "outputs": [
    {
     "name": "stdout",
     "output_type": "stream",
     "text": [
      "<p style=\"text-align:justify;\">Este MOOC tiene como objetivo proporcionar a los alumnos una buena comprensión del concepto de comunidad energética local (CEL), su potencial para un cambio sistemático en el sistema energético y cómo ponerlas en práctica. </p>\n",
      "\n"
     ]
    }
   ],
   "source": [
    "a = etree.parse(io.StringIO(fixhtmlentities(info)), etree.XMLParser(recover=True, encoding=\"utf-8\"))\n",
    "print(etree.tostring(a, pretty_print=True, encoding=\"utf-8\").decode())"
   ]
  },
  {
   "cell_type": "code",
   "execution_count": 60,
   "id": "ccea9d7b",
   "metadata": {},
   "outputs": [
    {
     "name": "stdout",
     "output_type": "stream",
     "text": [
      "<html>\n",
      "  <body><p style=\"text-align:justify;\">Este MOOC tiene como objetivo proporcionar a los alumnos una buena comprensión del concepto de comunidad energética local (CEL), su potencial para un cambio sistemático en el sistema energético y cómo ponerlas en práctica. </p>\n",
      "<p style=\"text-align:justify;\">El MOOC comenzará explicando el concepto de CEL y su relevancia en el contexto urbano. </p>\n",
      "<p style=\"text-align:justify;\">A continuación, estableceremos el marco jurídico europeo de las CEL, explicando las similitudes y diferencias entre las Comunidades Energéticas Ciudadanas y las Comunidades de Energías Renovables. </p>\n",
      "<p style=\"text-align:justify;\">A partir de aquí, exploraremos la situación actual de las comunidades energéticas en la UE y algunos casos de éxito para destacar las implicaciones para la región y el sistema energético. En concreto, queremos que los alumnos identifiquen las ventajas, los obstáculos y los retos de las CEL. </p>\n",
      "<p style=\"text-align:justify;\">Una vez realizado este ejercicio, aprenderán a establecer una CEL. Por último, debatiremos las posibilidades de ampliar e interconectar las comunidades energéticas para descarbonizar zonas más amplias de la ciudad.</p></body>\n",
      "</html>\n",
      "\n"
     ]
    }
   ],
   "source": [
    "a = etree.fromstring(info, etree.HTMLParser(recover=True, encoding=\"utf-8\"))\n",
    "print(etree.tostring(a, pretty_print=True, encoding=\"utf-8\").decode())"
   ]
  },
  {
   "cell_type": "code",
   "execution_count": 77,
   "id": "c1ad8a8e",
   "metadata": {},
   "outputs": [
    {
     "name": "stdout",
     "output_type": "stream",
     "text": [
      "<html>\n",
      "  <body><p style=\"text-align:justify;\">Este MOOC tiene como objetivo proporcionar a los alumnos una buena comprensión del concepto de comunidad energética local (CEL), su potencial para un cambio sistemático en el sistema energético y cómo ponerlas en práctica. </p>\n",
      "<p style=\"text-align:justify;\">El MOOC comenzará explicando el concepto de CEL y su relevancia en el contexto urbano. </p>\n",
      "<p style=\"text-align:justify;\">A continuación, estableceremos el marco jurídico europeo de las CEL, explicando las similitudes y diferencias entre las Comunidades Energéticas Ciudadanas y las Comunidades de Energías Renovables. </p>\n",
      "<p style=\"text-align:justify;\">A partir de aquí, exploraremos la situación actual de las comunidades energéticas en la UE y algunos casos de éxito para destacar las implicaciones para la región y el sistema energético. En concreto, queremos que los alumnos identifiquen las ventajas, los obstáculos y los retos de las CEL. </p>\n",
      "<p style=\"text-align:justify;\">Una vez realizado este ejercicio, aprenderán a establecer una CEL. Por último, debatiremos las posibilidades de ampliar e interconectar las comunidades energéticas para descarbonizar zonas más amplias de la ciudad.</p></body>\n",
      "</html>\n",
      "\n"
     ]
    }
   ],
   "source": [
    "b = etree.parse(io.StringIO(fixhtmlentities(info)), etree.HTMLParser(recover=True, encoding=\"utf-8\")).getroot()\n",
    "print(etree.tostring(b, pretty_print=True, encoding=\"utf-8\").decode())"
   ]
  },
  {
   "cell_type": "code",
   "execution_count": 72,
   "id": "b423304c",
   "metadata": {},
   "outputs": [
    {
     "name": "stdout",
     "output_type": "stream",
     "text": [
      "body\n"
     ]
    }
   ],
   "source": [
    "for it in b.iterchildren():\n",
    "    print(it.tag)"
   ]
  },
  {
   "cell_type": "code",
   "execution_count": 95,
   "id": "087651fc",
   "metadata": {},
   "outputs": [],
   "source": [
    "elem = parse_html_cell(info)"
   ]
  },
  {
   "cell_type": "code",
   "execution_count": 96,
   "id": "73f3df7a",
   "metadata": {},
   "outputs": [
    {
     "name": "stdout",
     "output_type": "stream",
     "text": [
      "<div><p style=\"text-align:justify;\">Este MOOC tiene como objetivo proporcionar a los alumnos una buena comprensión del concepto de comunidad energética local (CEL), su potencial para un cambio sistemático en el sistema energético y cómo ponerlas en práctica. </p>\n",
      "<p style=\"text-align:justify;\">El MOOC comenzará explicando el concepto de CEL y su relevancia en el contexto urbano. </p>\n",
      "<p style=\"text-align:justify;\">A continuación, estableceremos el marco jurídico europeo de las CEL, explicando las similitudes y diferencias entre las Comunidades Energéticas Ciudadanas y las Comunidades de Energías Renovables. </p>\n",
      "<p style=\"text-align:justify;\">A partir de aquí, exploraremos la situación actual de las comunidades energéticas en la UE y algunos casos de éxito para destacar las implicaciones para la región y el sistema energético. En concreto, queremos que los alumnos identifiquen las ventajas, los obstáculos y los retos de las CEL. </p>\n",
      "<p style=\"text-align:justify;\">Una vez realizado este ejercicio, aprenderán a establecer una CEL. Por último, debatiremos las posibilidades de ampliar e interconectar las comunidades energéticas para descarbonizar zonas más amplias de la ciudad.</p></div>\n",
      "\n"
     ]
    }
   ],
   "source": [
    "print(etree.tostring(elem, pretty_print=True, encoding=\"utf-8\").decode())"
   ]
  },
  {
   "cell_type": "code",
   "execution_count": 89,
   "id": "4998a616",
   "metadata": {},
   "outputs": [],
   "source": [
    "children = elem.getchildren()"
   ]
  },
  {
   "cell_type": "code",
   "execution_count": 90,
   "id": "bf351967",
   "metadata": {},
   "outputs": [
    {
     "data": {
      "text/plain": [
       "1"
      ]
     },
     "execution_count": 90,
     "metadata": {},
     "output_type": "execute_result"
    }
   ],
   "source": [
    "len(children)"
   ]
  },
  {
   "cell_type": "code",
   "execution_count": null,
   "id": "58561d7e",
   "metadata": {},
   "outputs": [],
   "source": []
  },
  {
   "cell_type": "code",
   "execution_count": 1,
   "id": "cb4e6d16",
   "metadata": {},
   "outputs": [],
   "source": []
  },
  {
   "cell_type": "code",
   "execution_count": 9,
   "id": "a0357612",
   "metadata": {},
   "outputs": [],
   "source": [
    "comentary = \"<p>Hello!</p>\"\n",
    "comentary = \"<solution>\" + comentary + \"</solution>\"\n",
    "elem = parse_html_cell(comentary)"
   ]
  },
  {
   "cell_type": "code",
   "execution_count": 10,
   "id": "a812784b",
   "metadata": {},
   "outputs": [
    {
     "name": "stdout",
     "output_type": "stream",
     "text": [
      "<div>\n",
      "  <solution>\n",
      "    <p>Hello!</p>\n",
      "  </solution>\n",
      "</div>\n",
      "\n"
     ]
    }
   ],
   "source": [
    "print(etree.tostring(elem, pretty_print=True, encoding=\"utf-8\").decode())"
   ]
  },
  {
   "cell_type": "code",
   "execution_count": 11,
   "id": "89140676",
   "metadata": {},
   "outputs": [],
   "source": [
    "comentary = \"<p>DOMO ARIGATO!</p>\"\n",
    "comentary = \"<solution>\" + comentary + \"</solution>\"\n",
    "elem = parse_html_cell(comentary)"
   ]
  },
  {
   "cell_type": "code",
   "execution_count": 12,
   "id": "9a1fb857",
   "metadata": {},
   "outputs": [
    {
     "name": "stdout",
     "output_type": "stream",
     "text": [
      "<div>\n",
      "  <solution>\n",
      "    <p>DOMO ARIGATO!</p>\n",
      "  </solution>\n",
      "</div>\n",
      "\n"
     ]
    }
   ],
   "source": [
    "print(etree.tostring(elem, pretty_print=True, encoding=\"utf-8\").decode())"
   ]
  },
  {
   "cell_type": "code",
   "execution_count": null,
   "id": "b0d97773",
   "metadata": {},
   "outputs": [],
   "source": []
  }
 ],
 "metadata": {
  "kernelspec": {
   "display_name": "Django Shell-Plus",
   "language": "python",
   "name": "django_extensions"
  },
  "language_info": {
   "codemirror_mode": {
    "name": "ipython",
    "version": 3
   },
   "file_extension": ".py",
   "mimetype": "text/x-python",
   "name": "python",
   "nbconvert_exporter": "python",
   "pygments_lexer": "ipython3",
   "version": "3.10.2"
  }
 },
 "nbformat": 4,
 "nbformat_minor": 5
}
