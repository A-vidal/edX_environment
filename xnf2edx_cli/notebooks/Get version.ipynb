{
 "cells": [
  {
   "cell_type": "code",
   "execution_count": 9,
   "id": "a492c46b",
   "metadata": {},
   "outputs": [],
   "source": [
    "import xlrd\n",
    "from pathlib import Path\n",
    "from xnf2edx.utils import get_version"
   ]
  },
  {
   "cell_type": "code",
   "execution_count": 10,
   "id": "30748ef1",
   "metadata": {},
   "outputs": [],
   "source": [
    "# Global variables\n",
    "path = \"\"\n",
    "problemSetID = 1\n",
    "stufftoreturn = {\"path\": \"\", \"coursename\": \"\", \"log\": \"\", \"error\": \"\"}\n",
    "\n",
    "# Some config to avoid unexpected behaviour\n",
    "xlrd.xlsx.ensure_elementtree_imported(False, None)\n",
    "xlrd.xlsx.Element_has_iter = True"
   ]
  },
  {
   "cell_type": "code",
   "execution_count": 11,
   "id": "1dd4f7f7",
   "metadata": {},
   "outputs": [],
   "source": [
    "XNF_PATH = Path(\".\").absolute().joinpath(\"data\", \"input\", \"templateXNF.xlsm\")\n",
    "TERMO_PATH = Path(\".\").absolute().joinpath(\"data\", \"input\", \"MOOC_Termodinámica.xlsm\")"
   ]
  },
  {
   "cell_type": "code",
   "execution_count": 12,
   "id": "89dd2012",
   "metadata": {
    "scrolled": true
   },
   "outputs": [],
   "source": [
    "xnf_wb = xlrd.open_workbook(XNF_PATH)\n",
    "termo_wb = xlrd.open_workbook(TERMO_PATH)"
   ]
  },
  {
   "cell_type": "code",
   "execution_count": 13,
   "id": "cfff6d4a",
   "metadata": {},
   "outputs": [
    {
     "data": {
      "text/plain": [
       "'0.5'"
      ]
     },
     "execution_count": 13,
     "metadata": {},
     "output_type": "execute_result"
    }
   ],
   "source": [
    "get_version(xnf_wb)"
   ]
  },
  {
   "cell_type": "code",
   "execution_count": 14,
   "id": "3b8b744b",
   "metadata": {},
   "outputs": [
    {
     "data": {
      "text/plain": [
       "'0.5'"
      ]
     },
     "execution_count": 14,
     "metadata": {},
     "output_type": "execute_result"
    }
   ],
   "source": [
    "get_version(termo_wb)"
   ]
  },
  {
   "cell_type": "code",
   "execution_count": null,
   "id": "619a2565",
   "metadata": {},
   "outputs": [],
   "source": []
  }
 ],
 "metadata": {
  "kernelspec": {
   "display_name": "Python 3 (ipykernel)",
   "language": "python",
   "name": "python3"
  },
  "language_info": {
   "codemirror_mode": {
    "name": "ipython",
    "version": 3
   },
   "file_extension": ".py",
   "mimetype": "text/x-python",
   "name": "python",
   "nbconvert_exporter": "python",
   "pygments_lexer": "ipython3",
   "version": "3.10.2"
  }
 },
 "nbformat": 4,
 "nbformat_minor": 5
}
