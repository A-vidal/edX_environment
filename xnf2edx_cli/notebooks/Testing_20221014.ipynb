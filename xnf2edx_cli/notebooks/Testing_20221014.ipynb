{
 "cells": [
  {
   "cell_type": "code",
   "execution_count": 1,
   "id": "0e57aa4a",
   "metadata": {},
   "outputs": [],
   "source": [
    "import xlrd\n",
    "import lxml\n",
    "from pathlib import Path"
   ]
  },
  {
   "cell_type": "code",
   "execution_count": 7,
   "id": "1235150b",
   "metadata": {},
   "outputs": [],
   "source": [
    "from xnf2edx import consts\n",
    "from xnf2edx.utils import get_sheet_from_row, get_sheet, get_all_row_values, get_version\n",
    "from xnf2edx.xnf2edx import parseShowAnswer"
   ]
  },
  {
   "cell_type": "code",
   "execution_count": 4,
   "id": "0102e1eb",
   "metadata": {},
   "outputs": [],
   "source": [
    "XNF_PATH = Path(\".\").absolute().joinpath(\"data\", \"input\", \"english_xnf2.xlsm\")\n",
    "PROBLEMATIC_PATH = Path(\".\").absolute().joinpath(\"data\", \"input\", \"problematic_xnf.xlsm\")\n",
    "PROBLEMATIC2_PATH = Path(\".\").absolute().joinpath(\"data\", \"input\", \"problematic_xnf2.xlsm\")\n",
    "XNF_FILE_PATH = Path(\".\").absolute().joinpath(\"data\", \"input\", \"XNF.xlsm\")"
   ]
  },
  {
   "cell_type": "code",
   "execution_count": 5,
   "id": "0bc613a0",
   "metadata": {},
   "outputs": [],
   "source": [
    "# Global variables\n",
    "path = \"\"\n",
    "problemSetID = 1\n",
    "stufftoreturn = {\"path\": \"\", \"coursename\": \"\", \"log\": \"\", \"error\": \"\"}\n",
    "\n",
    "# Some config to avoid unexpected behaviour\n",
    "xlrd.xlsx.ensure_elementtree_imported(False, None)\n",
    "xlrd.xlsx.Element_has_iter = True"
   ]
  },
  {
   "cell_type": "code",
   "execution_count": 6,
   "id": "d7584ff9",
   "metadata": {},
   "outputs": [],
   "source": [
    "wb = xlrd.open_workbook(XNF_FILE_PATH)"
   ]
  },
  {
   "cell_type": "markdown",
   "id": "a72bb4ec",
   "metadata": {},
   "source": [
    "### Yeee"
   ]
  },
  {
   "cell_type": "code",
   "execution_count": 8,
   "id": "1e8fcb69",
   "metadata": {
    "scrolled": true
   },
   "outputs": [
    {
     "ename": "IndexError",
     "evalue": "list index out of range",
     "output_type": "error",
     "traceback": [
      "\u001b[0;31m---------------------------------------------------------------------------\u001b[0m",
      "\u001b[0;31mValueError\u001b[0m                                Traceback (most recent call last)",
      "File \u001b[0;32m~/.pyenv/versions/xnf2edx_cli/lib/python3.10/site-packages/xlrd/book.py:474\u001b[0m, in \u001b[0;36mBook.sheet_by_name\u001b[0;34m(self, sheet_name)\u001b[0m\n\u001b[1;32m    473\u001b[0m \u001b[38;5;28;01mtry\u001b[39;00m:\n\u001b[0;32m--> 474\u001b[0m     sheetx \u001b[38;5;241m=\u001b[39m \u001b[38;5;28;43mself\u001b[39;49m\u001b[38;5;241;43m.\u001b[39;49m\u001b[43m_sheet_names\u001b[49m\u001b[38;5;241;43m.\u001b[39;49m\u001b[43mindex\u001b[49m\u001b[43m(\u001b[49m\u001b[43msheet_name\u001b[49m\u001b[43m)\u001b[49m\n\u001b[1;32m    475\u001b[0m \u001b[38;5;28;01mexcept\u001b[39;00m \u001b[38;5;167;01mValueError\u001b[39;00m:\n",
      "\u001b[0;31mValueError\u001b[0m: 'conf' is not in list",
      "\nDuring handling of the above exception, another exception occurred:\n",
      "\u001b[0;31mXLRDError\u001b[0m                                 Traceback (most recent call last)",
      "File \u001b[0;32m~/Repos/xnf2edx_cli/xnf2edx/utils.py:56\u001b[0m, in \u001b[0;36mget_version\u001b[0;34m(wb)\u001b[0m\n\u001b[1;32m     55\u001b[0m \u001b[38;5;28;01mtry\u001b[39;00m:\n\u001b[0;32m---> 56\u001b[0m     conf_sheet \u001b[38;5;241m=\u001b[39m \u001b[43mwb\u001b[49m\u001b[38;5;241;43m.\u001b[39;49m\u001b[43msheet_by_name\u001b[49m\u001b[43m(\u001b[49m\u001b[43mCONF_SHEET\u001b[49m\u001b[43m)\u001b[49m\n\u001b[1;32m     57\u001b[0m     version \u001b[38;5;241m=\u001b[39m conf_sheet\u001b[38;5;241m.\u001b[39mcell_value(CONFVERSIONPOS[\u001b[38;5;241m0\u001b[39m], CONFVERSIONPOS[\u001b[38;5;241m1\u001b[39m])\n",
      "File \u001b[0;32m~/.pyenv/versions/xnf2edx_cli/lib/python3.10/site-packages/xlrd/book.py:476\u001b[0m, in \u001b[0;36mBook.sheet_by_name\u001b[0;34m(self, sheet_name)\u001b[0m\n\u001b[1;32m    475\u001b[0m \u001b[38;5;28;01mexcept\u001b[39;00m \u001b[38;5;167;01mValueError\u001b[39;00m:\n\u001b[0;32m--> 476\u001b[0m     \u001b[38;5;28;01mraise\u001b[39;00m XLRDError(\u001b[38;5;124m'\u001b[39m\u001b[38;5;124mNo sheet named <\u001b[39m\u001b[38;5;132;01m%r\u001b[39;00m\u001b[38;5;124m>\u001b[39m\u001b[38;5;124m'\u001b[39m \u001b[38;5;241m%\u001b[39m sheet_name)\n\u001b[1;32m    477\u001b[0m \u001b[38;5;28;01mreturn\u001b[39;00m \u001b[38;5;28mself\u001b[39m\u001b[38;5;241m.\u001b[39msheet_by_index(sheetx)\n",
      "\u001b[0;31mXLRDError\u001b[0m: No sheet named <'conf'>",
      "\nDuring handling of the above exception, another exception occurred:\n",
      "\u001b[0;31mIndexError\u001b[0m                                Traceback (most recent call last)",
      "Cell \u001b[0;32mIn [8], line 1\u001b[0m\n\u001b[0;32m----> 1\u001b[0m get_version(wb)\n",
      "File \u001b[0;32m~/Repos/xnf2edx_cli/xnf2edx/utils.py:60\u001b[0m, in \u001b[0;36mget_version\u001b[0;34m(wb)\u001b[0m\n\u001b[1;32m     58\u001b[0m \u001b[38;5;28;01mexcept\u001b[39;00m \u001b[38;5;167;01mException\u001b[39;00m:\n\u001b[1;32m     59\u001b[0m     datos_generales_sheet \u001b[38;5;241m=\u001b[39m get_sheet(wb, CDATOSGENERALESSHEET, CDATOSGENERALESROW)\n\u001b[0;32m---> 60\u001b[0m     version \u001b[38;5;241m=\u001b[39m \u001b[43mdatos_generales_sheet\u001b[49m\u001b[38;5;241;43m.\u001b[39;49m\u001b[43mcell_value\u001b[49m\u001b[43m(\u001b[49m\n\u001b[1;32m     61\u001b[0m \u001b[43m        \u001b[49m\u001b[43mCDATOSGENERALESVERSIONPOS\u001b[49m\u001b[43m[\u001b[49m\u001b[38;5;241;43m0\u001b[39;49m\u001b[43m]\u001b[49m\u001b[43m,\u001b[49m\u001b[43m \u001b[49m\u001b[43mCDATOSGENERALESVERSIONPOS\u001b[49m\u001b[43m[\u001b[49m\u001b[38;5;241;43m1\u001b[39;49m\u001b[43m]\u001b[49m\n\u001b[1;32m     62\u001b[0m \u001b[43m    \u001b[49m\u001b[43m)\u001b[49m\n\u001b[1;32m     63\u001b[0m \u001b[38;5;28;01mreturn\u001b[39;00m version\n",
      "File \u001b[0;32m~/.pyenv/versions/xnf2edx_cli/lib/python3.10/site-packages/xlrd/sheet.py:419\u001b[0m, in \u001b[0;36mSheet.cell_value\u001b[0;34m(self, rowx, colx)\u001b[0m\n\u001b[1;32m    417\u001b[0m \u001b[38;5;28;01mdef\u001b[39;00m \u001b[38;5;21mcell_value\u001b[39m(\u001b[38;5;28mself\u001b[39m, rowx, colx):\n\u001b[1;32m    418\u001b[0m     \u001b[38;5;124m\"\u001b[39m\u001b[38;5;124mValue of the cell in the given row and column.\u001b[39m\u001b[38;5;124m\"\u001b[39m\n\u001b[0;32m--> 419\u001b[0m     \u001b[38;5;28;01mreturn\u001b[39;00m \u001b[38;5;28;43mself\u001b[39;49m\u001b[38;5;241;43m.\u001b[39;49m\u001b[43m_cell_values\u001b[49m\u001b[43m[\u001b[49m\u001b[43mrowx\u001b[49m\u001b[43m]\u001b[49m[colx]\n",
      "\u001b[0;31mIndexError\u001b[0m: list index out of range"
     ]
    }
   ],
   "source": [
    "get_version(wb)"
   ]
  },
  {
   "cell_type": "code",
   "execution_count": 11,
   "id": "ec1f60ea",
   "metadata": {},
   "outputs": [
    {
     "data": {
      "text/plain": [
       "<xlrd.sheet.Sheet at 0x7fac95728e20>"
      ]
     },
     "execution_count": 11,
     "metadata": {},
     "output_type": "execute_result"
    }
   ],
   "source": [
    "datos_generales_sheet = get_sheet(wb, consts.CDATOSGENERALESSHEET, consts.CDATOSGENERALESROW)\n",
    "datos_generales_sheet"
   ]
  },
  {
   "cell_type": "code",
   "execution_count": 12,
   "id": "d78bf1af",
   "metadata": {},
   "outputs": [
    {
     "ename": "IndexError",
     "evalue": "list index out of range",
     "output_type": "error",
     "traceback": [
      "\u001b[0;31m---------------------------------------------------------------------------\u001b[0m",
      "\u001b[0;31mIndexError\u001b[0m                                Traceback (most recent call last)",
      "Cell \u001b[0;32mIn [12], line 1\u001b[0m\n\u001b[0;32m----> 1\u001b[0m version \u001b[38;5;241m=\u001b[39m datos_generales_sheet\u001b[38;5;241m.\u001b[39mcell_value(consts\u001b[38;5;241m.\u001b[39mCDATOSGENERALESVERSIONPOS[\u001b[38;5;241m0\u001b[39m], consts\u001b[38;5;241m.\u001b[39mCDATOSGENERALESVERSIONPOS[\u001b[38;5;241m1\u001b[39m])\n",
      "File \u001b[0;32m~/.pyenv/versions/xnf2edx_cli/lib/python3.10/site-packages/xlrd/sheet.py:419\u001b[0m, in \u001b[0;36mSheet.cell_value\u001b[0;34m(self, rowx, colx)\u001b[0m\n\u001b[1;32m    417\u001b[0m \u001b[38;5;28;01mdef\u001b[39;00m \u001b[38;5;21mcell_value\u001b[39m(\u001b[38;5;28mself\u001b[39m, rowx, colx):\n\u001b[1;32m    418\u001b[0m     \u001b[38;5;124m\"\u001b[39m\u001b[38;5;124mValue of the cell in the given row and column.\u001b[39m\u001b[38;5;124m\"\u001b[39m\n\u001b[0;32m--> 419\u001b[0m     \u001b[38;5;28;01mreturn\u001b[39;00m \u001b[38;5;28;43mself\u001b[39;49m\u001b[38;5;241;43m.\u001b[39;49m\u001b[43m_cell_values\u001b[49m\u001b[43m[\u001b[49m\u001b[43mrowx\u001b[49m\u001b[43m]\u001b[49m[colx]\n",
      "\u001b[0;31mIndexError\u001b[0m: list index out of range"
     ]
    }
   ],
   "source": [
    "version = datos_generales_sheet.cell_value(consts.CDATOSGENERALESVERSIONPOS[0], consts.CDATOSGENERALESVERSIONPOS[1])"
   ]
  },
  {
   "cell_type": "code",
   "execution_count": 13,
   "id": "d001921b",
   "metadata": {},
   "outputs": [
    {
     "data": {
      "text/plain": [
       "100"
      ]
     },
     "execution_count": 13,
     "metadata": {},
     "output_type": "execute_result"
    }
   ],
   "source": [
    "consts.CDATOSGENERALESVERSIONPOS[0]"
   ]
  },
  {
   "cell_type": "code",
   "execution_count": 14,
   "id": "239e690a",
   "metadata": {},
   "outputs": [
    {
     "data": {
      "text/plain": [
       "0"
      ]
     },
     "execution_count": 14,
     "metadata": {},
     "output_type": "execute_result"
    }
   ],
   "source": [
    "consts.CDATOSGENERALESVERSIONPOS[1]"
   ]
  },
  {
   "cell_type": "code",
   "execution_count": null,
   "id": "1382ba3f",
   "metadata": {},
   "outputs": [],
   "source": []
  }
 ],
 "metadata": {
  "kernelspec": {
   "display_name": "Django Shell-Plus",
   "language": "python",
   "name": "django_extensions"
  },
  "language_info": {
   "codemirror_mode": {
    "name": "ipython",
    "version": 3
   },
   "file_extension": ".py",
   "mimetype": "text/x-python",
   "name": "python",
   "nbconvert_exporter": "python",
   "pygments_lexer": "ipython3",
   "version": "3.10.2"
  }
 },
 "nbformat": 4,
 "nbformat_minor": 5
}
